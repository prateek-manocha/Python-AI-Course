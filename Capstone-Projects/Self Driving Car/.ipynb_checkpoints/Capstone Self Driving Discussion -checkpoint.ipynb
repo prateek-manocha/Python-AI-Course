{
 "cells": [
  {
   "cell_type": "markdown",
   "metadata": {},
   "source": [
    "# Self Driving Car\n",
    "\n",
    "<img src=\"question.png\">"
   ]
  },
  {
   "cell_type": "markdown",
   "metadata": {},
   "source": [
    "# Method/Technique\n",
    "\n",
    "### Deep Learning: Encoder-Decoder/U-Net\n",
    "\n",
    "### Basic Image Processing"
   ]
  },
  {
   "cell_type": "markdown",
   "metadata": {},
   "source": [
    "# Dataset\n",
    "\n",
    "1. Dataset\n",
    "2. Individual Images"
   ]
  },
  {
   "cell_type": "markdown",
   "metadata": {},
   "source": [
    "# Pre-Processing\n",
    "\n",
    "Depending on method being used."
   ]
  },
  {
   "cell_type": "markdown",
   "metadata": {},
   "source": [
    "# Steps To Implement\n",
    "\n",
    "1. Design and Implement the model (choose hyper parameters).\n",
    "<img src=\"unet.png\">\n",
    "\n",
    "\n",
    "2. Implement the discussed steps.<br>\n",
    "    Processed Image => Edge Detection => Fine-Tuning to remove false positives => Line Detection\n",
    "    * Using Mask\n",
    "    * Using Edge Detection and Mathematics"
   ]
  },
  {
   "cell_type": "markdown",
   "metadata": {},
   "source": [
    "# Post Processing\n",
    "\n",
    "1. Not required/Depends on pre processing done.\n",
    "2. Combine the obtained result with the image being considered."
   ]
  },
  {
   "cell_type": "markdown",
   "metadata": {},
   "source": [
    "# Analysis\n",
    "\n",
    "Find the steering direction."
   ]
  }
 ],
 "metadata": {
  "kernelspec": {
   "display_name": "Python 3",
   "language": "python",
   "name": "python3"
  },
  "language_info": {
   "codemirror_mode": {
    "name": "ipython",
    "version": 3
   },
   "file_extension": ".py",
   "mimetype": "text/x-python",
   "name": "python",
   "nbconvert_exporter": "python",
   "pygments_lexer": "ipython3",
   "version": "3.8.5"
  }
 },
 "nbformat": 4,
 "nbformat_minor": 4
}
