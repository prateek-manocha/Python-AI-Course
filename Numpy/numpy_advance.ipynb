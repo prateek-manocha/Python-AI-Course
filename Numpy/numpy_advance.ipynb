{
 "cells": [
  {
   "cell_type": "markdown",
   "metadata": {},
   "source": [
    "# Numpy"
   ]
  },
  {
   "cell_type": "markdown",
   "metadata": {},
   "source": [
    "> Reference Matrial: \n",
    "> https://numpy.org/devdocs/user/quickstart.html#advanced-indexing-and-index-tricks"
   ]
  },
  {
   "cell_type": "markdown",
   "metadata": {
    "heading_collapsed": true
   },
   "source": [
    "### Assigning to arrays"
   ]
  },
  {
   "cell_type": "code",
   "execution_count": 2,
   "metadata": {
    "ExecuteTime": {
     "end_time": "2020-05-30T08:49:04.602970Z",
     "start_time": "2020-05-30T08:49:04.600058Z"
    },
    "hidden": true
   },
   "outputs": [],
   "source": [
    "import numpy as np\n",
    "A=np.arange(1,28).reshape(3,3,3)"
   ]
  },
  {
   "cell_type": "code",
   "execution_count": 71,
   "metadata": {
    "ExecuteTime": {
     "end_time": "2020-05-30T08:49:11.716435Z",
     "start_time": "2020-05-30T08:49:11.712904Z"
    },
    "hidden": true
   },
   "outputs": [
    {
     "name": "stdout",
     "output_type": "stream",
     "text": [
      "[[[ -10    2    3]\n",
      "  [   4    5 -100]\n",
      "  [   7    8    9]]\n",
      "\n",
      " [[  10   11   12]\n",
      "  [  13   14   15]\n",
      "  [  16   17   18]]\n",
      "\n",
      " [[  19   20   21]\n",
      "  [  22   23   24]\n",
      "  [  25   26   27]]]\n"
     ]
    }
   ],
   "source": [
    "# You can assign an element\n",
    "A[0][0][0]=-10\n",
    "A[0,1,2] = -100\n",
    "print(A)"
   ]
  },
  {
   "cell_type": "code",
   "execution_count": 5,
   "metadata": {
    "ExecuteTime": {
     "end_time": "2020-05-30T08:53:59.547558Z",
     "start_time": "2020-05-30T08:53:59.544157Z"
    },
    "hidden": true
   },
   "outputs": [
    {
     "name": "stdout",
     "output_type": "stream",
     "text": [
      "[[[ -9  -8  -7]\n",
      "  [ -6  -5  -4]\n",
      "  [ -3  -2  -1]]\n",
      "\n",
      " [[-18 -17 -16]\n",
      "  [-15 -14 -13]\n",
      "  [-12 -11 -10]]\n",
      "\n",
      " [[ 19  20  21]\n",
      "  [ 22  23  24]\n",
      "  [ 25  26  27]]]\n"
     ]
    }
   ],
   "source": [
    "# You can also assign a subarray by slicing\n",
    "\n",
    "# The value can be an array of the same shape\n",
    "A[0,:,:]=np.arange(-9,0).reshape(3,3) # Equivalent to A[0]\n",
    "A[1]=np.arange(-18,-9).reshape(3,3)\n",
    "print(A)"
   ]
  },
  {
   "cell_type": "code",
   "execution_count": 7,
   "metadata": {
    "ExecuteTime": {
     "end_time": "2020-05-30T08:54:03.019342Z",
     "start_time": "2020-05-30T08:54:03.015773Z"
    },
    "hidden": true
   },
   "outputs": [
    {
     "name": "stdout",
     "output_type": "stream",
     "text": [
      "[[[ -9  -8  -7]\n",
      "  [ -6  -5  -4]\n",
      "  [ -3  -2  -1]]\n",
      "\n",
      " [[-18 -17 -16]\n",
      "  [-50 -50 -50]\n",
      "  [-12 -11 -10]]\n",
      "\n",
      " [[ 19  20  21]\n",
      "  [ 22  23  24]\n",
      "  [ 25  26  27]]]\n",
      "**********\n"
     ]
    }
   ],
   "source": [
    "# The value can be a constant\n",
    "A[1,1,:]=-50\n",
    "print(A)\n",
    "print('*'*10)"
   ]
  },
  {
   "cell_type": "code",
   "execution_count": 13,
   "metadata": {},
   "outputs": [
    {
     "name": "stdout",
     "output_type": "stream",
     "text": [
      "[[-18 -17 -16]\n",
      " [-50 -50 -50]\n",
      " [-12 -11 -10]]\n",
      "[[-9 -8 -7]\n",
      " [-6 -5 -4]\n",
      " [-3 -2 -1]]\n",
      "[[[ -9  -8  -7]\n",
      "  [ -6  -5  -4]\n",
      "  [ -3  -2  -1]]\n",
      "\n",
      " [[-18 -17 -16]\n",
      "  [-50 -50 -50]\n",
      "  [-12 -11 -10]]]\n",
      "--------------------------------------------------\n",
      "[[[ -9  -8  -7]\n",
      "  [ -6  -5  -4]\n",
      "  [ -3  -2  -1]]\n",
      "\n",
      " [[-18 -17 -16]\n",
      "  [-50 -50 -50]\n",
      "  [-12 -11 -10]]\n",
      "\n",
      " [[ 19  20  21]\n",
      "  [ 22  23  24]\n",
      "  [ 25  26  27]]]\n"
     ]
    }
   ],
   "source": [
    "print(A[1])\n",
    "print(A[0])\n",
    "print(A[ [0,1] ])\n",
    "print('-'*50)\n",
    "print(A)"
   ]
  },
  {
   "cell_type": "code",
   "execution_count": 29,
   "metadata": {
    "ExecuteTime": {
     "end_time": "2020-05-30T08:54:47.591450Z",
     "start_time": "2020-05-30T08:54:47.587926Z"
    },
    "hidden": true
   },
   "outputs": [
    {
     "name": "stdout",
     "output_type": "stream",
     "text": [
      "[[[     1      2      3]\n",
      "  [-90000      5  -9999]\n",
      "  [     7      8      9]]\n",
      "\n",
      " [[     1      2      3]\n",
      "  [    13     14     15]\n",
      "  [    16     17     18]]\n",
      "\n",
      " [[    19     20     21]\n",
      "  [     1      2      3]\n",
      "  [    25 -90000  -9999]]]\n"
     ]
    }
   ],
   "source": [
    "# The value can also be a subarray that can be broadcasted\n",
    "A=np.arange(1,28).reshape(3,3,3)\n",
    "\n",
    "#A[2,:]=np.arange(1,4)\n",
    "#A[[1,2]]=np.arange(1,4) #A[1] = np.ara  and A[2] = np.ara\n",
    "A[[1,2], [0,1], :]=np.arange(1,4)\n",
    "A[[0,2],[1,2],[0,1]] = -90000\n",
    "A[[0,2],[1,2],2] = -9999\n",
    "print(A)\n"
   ]
  },
  {
   "cell_type": "code",
   "execution_count": 41,
   "metadata": {},
   "outputs": [
    {
     "name": "stdout",
     "output_type": "stream",
     "text": [
      "[  0   1   4   9  16  25  36  49  64  81 100 121]\n",
      "[[ 9 16]\n",
      " [81 49]\n",
      " [64 64]\n",
      " [64 64]]\n",
      "(4, 2)\n",
      "[  0   1   4   9  16  25  36  49  64  81 100 121]\n",
      "(12,)\n"
     ]
    }
   ],
   "source": [
    "a = np.arange(12)**2                       # the first 12 square numbers\n",
    "print(a)\n",
    "#i = np.array([1, 1, 3, 8, 5])              # an array of indices\n",
    "#print(a[i])                                      # the elements of a at the positions i\n",
    "#print(a[[3,4]])\n",
    "\n",
    "j = np.array([[3, 4], [9, 7],[8,8],[8,8]])      # a bidimensional array of indices\n",
    "print(a[j])                        # the same shape as j\n",
    "print(a[j].shape)\n",
    "print(a)\n",
    "print(a.shape)\n"
   ]
  },
  {
   "cell_type": "markdown",
   "metadata": {
    "heading_collapsed": true
   },
   "source": [
    "### Integer Indexing"
   ]
  },
  {
   "cell_type": "code",
   "execution_count": 42,
   "metadata": {
    "ExecuteTime": {
     "end_time": "2020-05-30T08:02:37.381487Z",
     "start_time": "2020-05-30T08:02:37.378786Z"
    },
    "hidden": true
   },
   "outputs": [],
   "source": [
    "A=np.arange(1,65).reshape(4,4,4)"
   ]
  },
  {
   "cell_type": "code",
   "execution_count": 43,
   "metadata": {
    "ExecuteTime": {
     "end_time": "2020-05-30T08:08:20.750075Z",
     "start_time": "2020-05-30T08:08:20.744807Z"
    },
    "hidden": true
   },
   "outputs": [
    {
     "name": "stdout",
     "output_type": "stream",
     "text": [
      "[[[ 1  2  3  4]\n",
      "  [ 5  6  7  8]\n",
      "  [ 9 10 11 12]\n",
      "  [13 14 15 16]]\n",
      "\n",
      " [[17 18 19 20]\n",
      "  [21 22 23 24]\n",
      "  [25 26 27 28]\n",
      "  [29 30 31 32]]\n",
      "\n",
      " [[33 34 35 36]\n",
      "  [37 38 39 40]\n",
      "  [41 42 43 44]\n",
      "  [45 46 47 48]]\n",
      "\n",
      " [[49 50 51 52]\n",
      "  [53 54 55 56]\n",
      "  [57 58 59 60]\n",
      "  [61 62 63 64]]]\n",
      "[[[ 1  2  3  4]\n",
      "  [ 5  6  7  8]\n",
      "  [ 9 10 11 12]\n",
      "  [13 14 15 16]]\n",
      "\n",
      " [[17 18 19 20]\n",
      "  [21 22 23 24]\n",
      "  [25 26 27 28]\n",
      "  [29 30 31 32]]]\n",
      "\n",
      "-_-_-_-_-_-_-_-_-_-_-_-_-_-_-_-_-_-_-_-_\n",
      "\n",
      "[[[ 1  2  3  4]\n",
      "  [ 5  6  7  8]\n",
      "  [ 9 10 11 12]\n",
      "  [13 14 15 16]]\n",
      "\n",
      " [[17 18 19 20]\n",
      "  [21 22 23 24]\n",
      "  [25 26 27 28]\n",
      "  [29 30 31 32]]]\n",
      "\n",
      "-_-_-_-_-_-_-_-_-_-_-_-_-_-_-_-_-_-_-_-_\n",
      "\n",
      "[[[ 1  3]\n",
      "  [ 5  7]\n",
      "  [ 9 11]\n",
      "  [13 15]]\n",
      "\n",
      " [[17 19]\n",
      "  [21 23]\n",
      "  [25 27]\n",
      "  [29 31]]\n",
      "\n",
      " [[33 35]\n",
      "  [37 39]\n",
      "  [41 43]\n",
      "  [45 47]]\n",
      "\n",
      " [[49 51]\n",
      "  [53 55]\n",
      "  [57 59]\n",
      "  [61 63]]]\n"
     ]
    }
   ],
   "source": [
    "# You can index an array with a list/array of indices\n",
    "print(A)\n",
    "print(A[[0,1]])\n",
    "print(\"\\n\"+\"-_\"*20+\"\\n\")\n",
    "\n",
    "# Just a single array indexes the first dimension, same as\n",
    "\n",
    "print(A[[0,1],:,:])\n",
    "print(\"\\n\"+\"-_\"*20+\"\\n\")\n",
    "\n",
    "# You can also index the other dimensions\n",
    "print(A[:,:,[0,2]])"
   ]
  },
  {
   "cell_type": "code",
   "execution_count": 44,
   "metadata": {
    "ExecuteTime": {
     "end_time": "2020-05-30T08:07:11.510826Z",
     "start_time": "2020-05-30T08:07:11.507445Z"
    },
    "hidden": true
   },
   "outputs": [
    {
     "name": "stdout",
     "output_type": "stream",
     "text": [
      "[[[ 1  2  3  4]\n",
      "  [ 5  6  7  8]\n",
      "  [ 9 10 11 12]\n",
      "  [13 14 15 16]]\n",
      "\n",
      " [[17 18 19 20]\n",
      "  [21 22 23 24]\n",
      "  [25 26 27 28]\n",
      "  [29 30 31 32]]\n",
      "\n",
      " [[ 1  2  3  4]\n",
      "  [ 5  6  7  8]\n",
      "  [ 9 10 11 12]\n",
      "  [13 14 15 16]]\n",
      "\n",
      " [[ 1  2  3  4]\n",
      "  [ 5  6  7  8]\n",
      "  [ 9 10 11 12]\n",
      "  [13 14 15 16]]\n",
      "\n",
      " [[17 18 19 20]\n",
      "  [21 22 23 24]\n",
      "  [25 26 27 28]\n",
      "  [29 30 31 32]]]\n"
     ]
    }
   ],
   "source": [
    "# You can repeat an index in your array\n",
    "\n",
    "print(A[[0,1,0,0,1],:,:])"
   ]
  },
  {
   "cell_type": "code",
   "execution_count": 54,
   "metadata": {
    "ExecuteTime": {
     "end_time": "2020-05-30T08:42:56.961022Z",
     "start_time": "2020-05-30T08:42:56.957409Z"
    },
    "hidden": true
   },
   "outputs": [
    {
     "name": "stdout",
     "output_type": "stream",
     "text": [
      "[ 5 26 11 12]\n"
     ]
    }
   ],
   "source": [
    "# You can give a list of indexes for each dimension\n",
    "print(A[[0,1,0,0],\n",
    "        [1,2,2,2],\n",
    "        [0,1,2,3]])"
   ]
  },
  {
   "cell_type": "code",
   "execution_count": 58,
   "metadata": {
    "ExecuteTime": {
     "end_time": "2020-05-30T08:44:29.367007Z",
     "start_time": "2020-05-30T08:44:29.362195Z"
    },
    "hidden": true,
    "scrolled": true
   },
   "outputs": [
    {
     "name": "stdout",
     "output_type": "stream",
     "text": [
      "[[[ 1  2  3  4]\n",
      "  [ 5  6  7  8]\n",
      "  [ 9 10 11 12]\n",
      "  [13 14 15 16]]\n",
      "\n",
      " [[17 18 19 20]\n",
      "  [21 22 23 24]\n",
      "  [25 26 27 28]\n",
      "  [29 30 31 32]]\n",
      "\n",
      " [[33 34 35 36]\n",
      "  [37 38 39 40]\n",
      "  [41 42 43 44]\n",
      "  [45 46 47 48]]\n",
      "\n",
      " [[49 50 51 52]\n",
      "  [53 54 55 56]\n",
      "  [57 58 59 60]\n",
      "  [61 62 63 64]]]\n"
     ]
    },
    {
     "data": {
      "text/plain": [
       "array([[ 6, 27],\n",
       "       [26, 11]])"
      ]
     },
     "execution_count": 58,
     "metadata": {},
     "output_type": "execute_result"
    }
   ],
   "source": [
    "# The list of indices can be in a more complicated shape\n",
    "print(A)\n",
    "i=np.array([[0,1],[1,0]])\n",
    "j=np.array([[1,2],[2,2]])\n",
    "k=np.array(       [1,2])  #=> [[1,2],[1,2]]\n",
    "A[i,j,k]"
   ]
  },
  {
   "cell_type": "code",
   "execution_count": 65,
   "metadata": {
    "ExecuteTime": {
     "end_time": "2020-05-30T08:46:12.101669Z",
     "start_time": "2020-05-30T08:46:12.097550Z"
    },
    "hidden": true
   },
   "outputs": [
    {
     "name": "stdout",
     "output_type": "stream",
     "text": [
      "[14 13  9  4 19  2  5 15 10 11]\n",
      "[0 3 9 4 1 6 7 5 8 2]\n",
      "[14  4 11 19 13  5 15  2 10  9]\n"
     ]
    }
   ],
   "source": [
    "# Shuffle an array\n",
    "A=np.random.randint(1,20,10)\n",
    "print(A)\n",
    "shuffle=np.random.permutation(A.shape[0]) #np.random.shuffle(np.arange(number))\n",
    "print(shuffle)\n",
    "print(A[shuffle]) #np.random.shuffle(A)"
   ]
  },
  {
   "cell_type": "code",
   "execution_count": 66,
   "metadata": {
    "ExecuteTime": {
     "end_time": "2020-05-30T08:47:26.565761Z",
     "start_time": "2020-05-30T08:47:26.562115Z"
    },
    "hidden": true
   },
   "outputs": [],
   "source": [
    "# Sort an array according to another array\n",
    "\n",
    "A=np.random.randint(1,20,10)\n",
    "B=np.random.randint(1,20,10)\n",
    "\n",
    "sorted_idcs=np.argsort(A)\n",
    "B_sorted=B[sorted_idcs]"
   ]
  },
  {
   "cell_type": "code",
   "execution_count": 67,
   "metadata": {
    "ExecuteTime": {
     "end_time": "2020-05-30T09:07:51.075664Z",
     "start_time": "2020-05-30T09:07:51.071579Z"
    },
    "hidden": true,
    "scrolled": true
   },
   "outputs": [
    {
     "name": "stdout",
     "output_type": "stream",
     "text": [
      "[[[ 1  2  3]\n",
      "  [ 4  5  6]\n",
      "  [ 7  8  9]]\n",
      "\n",
      " [[10 11 12]\n",
      "  [13 14 15]\n",
      "  [16 17 18]]\n",
      "\n",
      " [[19 20 21]\n",
      "  [22 23 24]\n",
      "  [25 26 27]]]\n",
      "[[[  1   2   3]\n",
      "  [  4   5   6]\n",
      "  [  7   8   9]]\n",
      "\n",
      " [[ 10  11 -50]\n",
      "  [ 13  14  15]\n",
      "  [ 16  17  18]]\n",
      "\n",
      " [[ 19  20  21]\n",
      "  [ 22  23  24]\n",
      "  [ 25  26 -50]]]\n"
     ]
    }
   ],
   "source": [
    "# You can also assign using integer indices\n",
    "\n",
    "A=np.arange(1,28).reshape(3,3,3)\n",
    "print(A)\n",
    "A[[1,2],[0,2],2]=-50\n",
    "\n",
    "print(A)"
   ]
  },
  {
   "cell_type": "code",
   "execution_count": 69,
   "metadata": {},
   "outputs": [
    {
     "name": "stdout",
     "output_type": "stream",
     "text": [
      "[[ 0  1  2  3]\n",
      " [ 4  5  6  7]\n",
      " [ 8  9 10 11]]\n",
      "[[ 2  5]\n",
      " [ 7 11]]\n",
      "[[ 2  5]\n",
      " [ 7 11]]\n",
      "[[ 2  6]\n",
      " [ 6 10]]\n"
     ]
    }
   ],
   "source": [
    "a = np.arange(12).reshape(3,4)\n",
    "print(a)\n",
    "print(a[[[0,1],[1,2]], [[2, 1],[3, 3]]])\n",
    "\n",
    "\n",
    "i = np.array([[0, 1],[1, 2]])                     # indices for the first dim of a\n",
    "              \n",
    "j = np.array([[2, 1],[3, 3]])                     # indices for the second dim\n",
    "              \n",
    "\n",
    "print(a[i, j])                                   # i and j must have equal shape\n",
    "print(a[i,2])"
   ]
  },
  {
   "cell_type": "markdown",
   "metadata": {},
   "source": [
    "### Boolean Indexing"
   ]
  },
  {
   "cell_type": "code",
   "execution_count": 80,
   "metadata": {
    "ExecuteTime": {
     "end_time": "2020-05-30T09:25:48.240785Z",
     "start_time": "2020-05-30T09:25:48.237177Z"
    }
   },
   "outputs": [
    {
     "name": "stdout",
     "output_type": "stream",
     "text": [
      "[[45 13 45 31]\n",
      " [10 38 45 21]\n",
      " [ 8 42 48 13]]\n"
     ]
    }
   ],
   "source": [
    "A=np.random.randint(1,50,12).reshape(3,4)\n",
    "print(A)\n"
   ]
  },
  {
   "cell_type": "code",
   "execution_count": 81,
   "metadata": {
    "ExecuteTime": {
     "end_time": "2020-05-30T09:25:49.002930Z",
     "start_time": "2020-05-30T09:25:48.997443Z"
    }
   },
   "outputs": [
    {
     "name": "stdout",
     "output_type": "stream",
     "text": [
      "\n",
      "-_-_-_-_-_-_-_-_-_-_-_-_-_-_-_-_-_-_-_-_\n",
      "\n",
      "\n",
      "-_-_-_-_-_-_-_-_-_-_-_-_-_-_-_-_-_-_-_-_\n",
      "\n",
      "[45 13]\n"
     ]
    }
   ],
   "source": [
    "# You can do slices or selections using boolean arrays same length as the dimension\n",
    "# This is recommended to do only for one dimension\n",
    "\n",
    "# selecting rows\n",
    "#print(A[[True,True,True],:])\n",
    "print(\"\\n\"+\"-_\"*20+\"\\n\")\n",
    "\n",
    "# selecting columns\n",
    "#print(A[:,[True,False,False,True]])\n",
    "print(\"\\n\"+\"-_\"*20+\"\\n\")\n",
    "\n",
    "# selecting both rows and columns is confusing\n",
    "# and not recommended\n",
    "\n",
    "print(A[[True,False,True],[True,False,False,True]])"
   ]
  },
  {
   "cell_type": "code",
   "execution_count": 85,
   "metadata": {
    "ExecuteTime": {
     "end_time": "2020-05-30T09:26:01.132623Z",
     "start_time": "2020-05-30T09:26:01.127004Z"
    }
   },
   "outputs": [
    {
     "name": "stdout",
     "output_type": "stream",
     "text": [
      "[[ 1  9 44 25 10 32]\n",
      " [28 26 34 40  5  1]\n",
      " [27 25  0  0 42 29]\n",
      " [38  9 12 21 23 16]]\n",
      "\n",
      "-_-_-_-_-_-_-_-_-_-_-_-_-_-_-_-_-_-_-_-_\n",
      "\n",
      "[44 40 42 38]\n",
      "[ True False  True False]\n",
      "\n",
      "-_-_-_-_-_-_-_-_-_-_-_-_-_-_-_-_-_-_-_-_\n",
      "\n",
      "[[ 1  9 44 25 10 32]\n",
      " [27 25  0  0 42 29]]\n"
     ]
    }
   ],
   "source": [
    "# Generally you'll use this in a more complicated way\n",
    "# For example let's get the rows that have maximums > some value\n",
    "\n",
    "A=np.random.randint(0,50,(4,6))\n",
    "print(A)\n",
    "print(\"\\n\"+\"-_\"*20+\"\\n\")\n",
    "\n",
    "maxes=np.max(A,axis=1)\n",
    "print(maxes)\n",
    "print(maxes>40)\n",
    "print(\"\\n\"+\"-_\"*20+\"\\n\")\n",
    "\n",
    "print(A[maxes>40,:])\n",
    "\n",
    "#np.where(condition, true_case, false_case)"
   ]
  },
  {
   "cell_type": "code",
   "execution_count": 87,
   "metadata": {
    "ExecuteTime": {
     "end_time": "2020-05-30T09:21:30.422056Z",
     "start_time": "2020-05-30T09:21:30.418376Z"
    }
   },
   "outputs": [
    {
     "name": "stdout",
     "output_type": "stream",
     "text": [
      "[[False False  True  True False  True]\n",
      " [ True  True  True  True False False]\n",
      " [ True  True False False  True  True]\n",
      " [ True False  True  True  True  True]]\n",
      "[44 25 32 28 26 34 40 27 25 42 29 38 12 21 23 16]\n"
     ]
    }
   ],
   "source": [
    "# You can also index by a boolean array of the size as the \n",
    "# original\n",
    "# It gives a flat array with all the entries that had True\n",
    "print(A>10)\n",
    "print(A[A>10])"
   ]
  },
  {
   "cell_type": "code",
   "execution_count": 89,
   "metadata": {
    "ExecuteTime": {
     "end_time": "2020-05-30T09:26:09.468639Z",
     "start_time": "2020-05-30T09:26:09.463541Z"
    }
   },
   "outputs": [
    {
     "name": "stdout",
     "output_type": "stream",
     "text": [
      "[[32 40 33 13 25 37]\n",
      " [ 4 16 34 25 30 34]\n",
      " [ 2 26 47 30 34 19]\n",
      " [31 12 22 38 20 16]]\n",
      "\n",
      "-_-_-_-_-_-_-_-_-_-_-_-_-_-_-_-_-_-_-_-_\n",
      "\n",
      "[32  4  2 31]\n",
      "[[32 40 33 13 25 37]\n",
      " [-6 -5 -4 -3 -2 -1]\n",
      " [-6 -5 -4 -3 -2 -1]\n",
      " [31 12 22 38 20 16]]\n"
     ]
    }
   ],
   "source": [
    "# Again you can use Boolean indexing to assign values\n",
    "\n",
    "A=np.random.randint(0,50,(4,6))\n",
    "print(A)\n",
    "print(\"\\n\"+\"-_\"*20+\"\\n\")\n",
    "print(A[:,0])\n",
    "A[A[:,0]<30]=np.arange(-6,0)\n",
    "print(A)"
   ]
  },
  {
   "cell_type": "markdown",
   "metadata": {
    "heading_collapsed": true
   },
   "source": [
    "### np.inf, np.nan"
   ]
  },
  {
   "cell_type": "code",
   "execution_count": 92,
   "metadata": {
    "ExecuteTime": {
     "end_time": "2020-05-30T09:28:30.782513Z",
     "start_time": "2020-05-30T09:28:30.778960Z"
    },
    "hidden": true
   },
   "outputs": [
    {
     "name": "stdout",
     "output_type": "stream",
     "text": [
      "inf\n",
      "inf\n"
     ]
    }
   ],
   "source": [
    "# Numpy has a special type to represent infinity\n",
    "\n",
    "print(np.inf)\n",
    "\n",
    "# Actually regular python also has infinity\n",
    "\n",
    "print(float(\"inf\"))"
   ]
  },
  {
   "cell_type": "code",
   "execution_count": 94,
   "metadata": {
    "ExecuteTime": {
     "end_time": "2020-05-30T09:33:34.038130Z",
     "start_time": "2020-05-30T09:33:34.034012Z"
    },
    "hidden": true
   },
   "outputs": [
    {
     "name": "stdout",
     "output_type": "stream",
     "text": [
      "inf\n",
      "-inf\n",
      "inf\n"
     ]
    }
   ],
   "source": [
    "# Let's see how np.inf behaves\n",
    "\n",
    "# Multiplying by a negative number gives -np.inf\n",
    "x=np.inf\n",
    "print(x)\n",
    "x*=-1\n",
    "print(x)\n",
    "\n",
    "# The opposite also works\n",
    "\n",
    "x*=-5\n",
    "print(x)"
   ]
  },
  {
   "cell_type": "code",
   "execution_count": 95,
   "metadata": {
    "ExecuteTime": {
     "end_time": "2020-05-30T09:33:45.500048Z",
     "start_time": "2020-05-30T09:33:45.495737Z"
    },
    "hidden": true
   },
   "outputs": [
    {
     "name": "stdout",
     "output_type": "stream",
     "text": [
      "inf\n",
      "-inf\n",
      "inf\n",
      "inf\n"
     ]
    }
   ],
   "source": [
    "# Adding,subtracting,dividing,multiplying with normal\n",
    "# numbers gives np.inf ( or -np.inf) except when multiplying\n",
    "# or dividing with a negative number\n",
    "\n",
    "print(np.inf+5)\n",
    "print(-np.inf-6)\n",
    "print(-np.inf*-30)\n",
    "print(-np.inf/-22)"
   ]
  },
  {
   "cell_type": "code",
   "execution_count": 97,
   "metadata": {
    "ExecuteTime": {
     "end_time": "2020-05-30T09:34:09.376133Z",
     "start_time": "2020-05-30T09:34:09.373518Z"
    },
    "hidden": true
   },
   "outputs": [
    {
     "name": "stdout",
     "output_type": "stream",
     "text": [
      "0.0\n"
     ]
    }
   ],
   "source": [
    "# Dividing a number by np.inf gives 0\n",
    "\n",
    "print(1223/np.inf)"
   ]
  },
  {
   "cell_type": "code",
   "execution_count": 98,
   "metadata": {
    "ExecuteTime": {
     "end_time": "2020-05-30T09:38:16.382416Z",
     "start_time": "2020-05-30T09:38:16.378615Z"
    },
    "hidden": true
   },
   "outputs": [
    {
     "name": "stdout",
     "output_type": "stream",
     "text": [
      "[inf]\n"
     ]
    },
    {
     "name": "stderr",
     "output_type": "stream",
     "text": [
      "<ipython-input-98-067a3885ebda>:3: RuntimeWarning: divide by zero encountered in true_divide\n",
      "  print(np.array([222])/0)\n"
     ]
    }
   ],
   "source": [
    "# Interestingly dividing by 0 in numpy arrays gives infinity\n",
    "\n",
    "print(np.array([222])/0)"
   ]
  },
  {
   "cell_type": "code",
   "execution_count": 102,
   "metadata": {
    "ExecuteTime": {
     "end_time": "2020-05-30T09:35:18.333348Z",
     "start_time": "2020-05-30T09:35:18.329183Z"
    },
    "hidden": true
   },
   "outputs": [
    {
     "name": "stdout",
     "output_type": "stream",
     "text": [
      "inf\n",
      "inf\n",
      "nan\n",
      "nan\n"
     ]
    }
   ],
   "source": [
    "# What about operations between np.inf\n",
    "\n",
    "# These have some meaning\n",
    "print(np.inf + np.inf)\n",
    "print(np.inf*np.inf)\n",
    "\n",
    "# These are absolutely meaningless\n",
    "print(np.inf-np.inf)\n",
    "print(np.inf/np.inf)"
   ]
  },
  {
   "cell_type": "code",
   "execution_count": 103,
   "metadata": {
    "ExecuteTime": {
     "end_time": "2020-05-30T09:40:17.212263Z",
     "start_time": "2020-05-30T09:40:17.208318Z"
    },
    "hidden": true
   },
   "outputs": [
    {
     "name": "stdout",
     "output_type": "stream",
     "text": [
      "nan\n",
      "[ 1.  1. nan  2.]\n"
     ]
    }
   ],
   "source": [
    "# Which brings us to another special numpy data type\n",
    "# nan : Not a Number\n",
    "print(np.nan)\n",
    "\n",
    "# Numpy uses nan to designate invalid values\n",
    "# You can use it too\n",
    "\n",
    "print(np.array([1,1,np.nan,2]))"
   ]
  },
  {
   "cell_type": "code",
   "execution_count": 105,
   "metadata": {
    "ExecuteTime": {
     "end_time": "2020-05-30T09:45:25.220232Z",
     "start_time": "2020-05-30T09:45:25.215656Z"
    },
    "hidden": true
   },
   "outputs": [
    {
     "name": "stdout",
     "output_type": "stream",
     "text": [
      "nan\n",
      "[nan]\n",
      "nan\n",
      "nan\n"
     ]
    },
    {
     "name": "stderr",
     "output_type": "stream",
     "text": [
      "<ipython-input-105-5512382ab81e>:3: RuntimeWarning: invalid value encountered in sqrt\n",
      "  print(np.sqrt(-2))\n",
      "<ipython-input-105-5512382ab81e>:4: RuntimeWarning: invalid value encountered in true_divide\n",
      "  print(np.zeros(1)/np.zeros(1))\n",
      "<ipython-input-105-5512382ab81e>:6: RuntimeWarning: invalid value encountered in log\n",
      "  print(np.log(-2))\n"
     ]
    }
   ],
   "source": [
    "# Some other ways you can get np.nan\n",
    "\n",
    "print(np.sqrt(-2))\n",
    "print(np.zeros(1)/np.zeros(1))\n",
    "print(np.inf * 0)\n",
    "print(np.log(-2))"
   ]
  },
  {
   "cell_type": "code",
   "execution_count": 106,
   "metadata": {
    "ExecuteTime": {
     "end_time": "2020-05-30T09:40:19.498380Z",
     "start_time": "2020-05-30T09:40:19.494014Z"
    },
    "hidden": true
   },
   "outputs": [
    {
     "name": "stdout",
     "output_type": "stream",
     "text": [
      "nan\n",
      "nan\n",
      "[nan]\n",
      "nan\n"
     ]
    }
   ],
   "source": [
    "# Any operation with np.nan gives np.nan\n",
    "\n",
    "print(1+np.nan)\n",
    "print(np.inf + np.nan)\n",
    "print(np.nan/np.array([0]))\n",
    "print(np.nan - np.nan)"
   ]
  },
  {
   "cell_type": "code",
   "execution_count": 107,
   "metadata": {},
   "outputs": [
    {
     "ename": "ZeroDivisionError",
     "evalue": "division by zero",
     "output_type": "error",
     "traceback": [
      "\u001b[0;31m---------------------------------------------------------------------------\u001b[0m",
      "\u001b[0;31mZeroDivisionError\u001b[0m                         Traceback (most recent call last)",
      "\u001b[0;32m<ipython-input-107-5be59c97e00b>\u001b[0m in \u001b[0;36m<module>\u001b[0;34m\u001b[0m\n\u001b[0;32m----> 1\u001b[0;31m \u001b[0mprint\u001b[0m\u001b[0;34m(\u001b[0m\u001b[0;36m100\u001b[0m\u001b[0;34m/\u001b[0m\u001b[0;36m0\u001b[0m\u001b[0;34m)\u001b[0m\u001b[0;34m\u001b[0m\u001b[0;34m\u001b[0m\u001b[0m\n\u001b[0m",
      "\u001b[0;31mZeroDivisionError\u001b[0m: division by zero"
     ]
    }
   ],
   "source": [
    "print(100/0)"
   ]
  },
  {
   "cell_type": "markdown",
   "metadata": {
    "hidden": true
   },
   "source": [
    "1. There might be some valid use cases for np.inf, but mostly you will encounter it when some calculation error happens - similar to division by zero.\n",
    "2. If you see np.nan then clearly some undefined arithmetic operation has happened in your code. "
   ]
  }
 ],
 "metadata": {
  "hide_input": false,
  "kernelspec": {
   "display_name": "Python 3",
   "language": "python",
   "name": "python3"
  },
  "language_info": {
   "codemirror_mode": {
    "name": "ipython",
    "version": 3
   },
   "file_extension": ".py",
   "mimetype": "text/x-python",
   "name": "python",
   "nbconvert_exporter": "python",
   "pygments_lexer": "ipython3",
   "version": "3.8.3"
  },
  "toc": {
   "base_numbering": 1,
   "nav_menu": {},
   "number_sections": true,
   "sideBar": true,
   "skip_h1_title": false,
   "title_cell": "Table of Contents",
   "title_sidebar": "Contents",
   "toc_cell": false,
   "toc_position": {},
   "toc_section_display": true,
   "toc_window_display": false
  }
 },
 "nbformat": 4,
 "nbformat_minor": 2
}
