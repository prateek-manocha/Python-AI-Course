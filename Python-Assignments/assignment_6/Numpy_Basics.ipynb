{
 "cells": [
  {
   "cell_type": "markdown",
   "metadata": {},
   "source": [
    "# Numpy "
   ]
  },
  {
   "cell_type": "markdown",
   "metadata": {},
   "source": [
    "Let us start with an example to understand the need for numpy. <br>\n",
    "Lets assume I am in a 3D space, so I'll have 3 coordinates for my location: x, y and z.<br><br>\n",
    "How to represent this is python?<br>\n",
    "* List?\n",
    "* Set?\n",
    "* Tupple?"
   ]
  },
  {
   "cell_type": "markdown",
   "metadata": {},
   "source": [
    "Now let us assume we are in 10,000 dimensional space, same case with the real world data. <br>\n",
    "Example: Machine Learning Features, Images.\n",
    "\n",
    "Will our choice to store such information remain same?"
   ]
  },
  {
   "cell_type": "markdown",
   "metadata": {},
   "source": [
    "## NumPy: Numerical Python\n",
    "* A scientific computing library for Python\n",
    "* Focuses on representation of data as **N-dimensional array** and their **operations**.\n",
    "* Implements efficient computations and operations on these N-dimensional array. For example\n",
    "    * Basic operations : +, - , * , /\n",
    "    * Mathematical functions on these arrays : sin, cos, pow\n",
    "    * Linear Algebra\n",
    "    * Searching arrays, sorting arrays etc\n",
    "* More efficient (than lists for ex)  because\n",
    "    * Specialized data structures that take advantage of homogenous typing, and contiguous storage\n",
    "    * Many operations implemented in C\n",
    "    * Some specialized methods are parallelized (kind of)\n",
    "* Bottom line : When dealing with large data arrays, numpy arrays are a good data structure to use due to \n",
    "    * Efficiency\n",
    "    * Support for various operations (For example, how to sort an N-dimensional array?) including linear algebra operations, so saves you time writing all that code.\n",
    "    * Shape and Broadcasting semantics (covered later)"
   ]
  },
  {
   "cell_type": "code",
   "execution_count": 3,
   "metadata": {},
   "outputs": [
    {
     "name": "stdout",
     "output_type": "stream",
     "text": [
      "0.16695857048034668\n",
      "0.1567387580871582\n",
      "999999\n",
      "999999\n"
     ]
    }
   ],
   "source": [
    "#sample program to show the effectiveness.\n",
    "\n",
    "c = list(range(1000000))\n",
    "\n",
    "import time\n",
    "start = time.time()\n",
    "\n",
    "i= 0\n",
    "while i <len(c):\n",
    "    i+=1\n",
    "    \n",
    "print(time.time()-start)\n",
    "\n",
    "import numpy as np\n",
    "d = np.array(c)\n",
    "\n",
    "i =0\n",
    "start = time.time()\n",
    "while i < len(d):\n",
    "    i+=1\n",
    "print(time.time()-start)\n",
    "\n",
    "\n",
    "print(c[-1])\n",
    "print(d[-1])"
   ]
  },
  {
   "cell_type": "markdown",
   "metadata": {},
   "source": [
    "### NumPy vs Lists\n",
    "\n",
    "At the core of the NumPy package, is the ndarray object. This encapsulates n-dimensional arrays of homogeneous data types, with many operations being performed in compiled code for performance. There are several important differences between NumPy arrays and the standard Python sequences:\n",
    "\n",
    "* NumPy arrays have a fixed size at creation, unlike Python lists (which can grow dynamically). Changing the size of an ndarray will create a new array and delete the original.\n",
    "\n",
    "* The elements in a NumPy array are all required to be of the same data type, and thus will be the same size in memory. The exception: one can have arrays of (Python, including NumPy) objects, thereby allowing for arrays of different sized elements.\n",
    "\n",
    "* NumPy arrays facilitate advanced mathematical and other types of operations on large numbers of data. Typically, such operations are executed more efficiently and with less code than is possible using Python’s built-in sequences."
   ]
  },
  {
   "cell_type": "code",
   "execution_count": 4,
   "metadata": {},
   "outputs": [
    {
     "name": "stdout",
     "output_type": "stream",
     "text": [
      "0.011240005493164062\n"
     ]
    }
   ],
   "source": [
    "#another example for numpy vs list\n",
    "\n",
    "a = np.array(list(range(1000)))\n",
    "b = np.array(list(range(1000)))\n",
    "import time\n",
    "start = time.time()\n",
    "for i in range(1000):\n",
    "    c = a[i]*b[i]\n",
    "print(time.time()-start)"
   ]
  },
  {
   "cell_type": "markdown",
   "metadata": {},
   "source": [
    "To install numpy, run\n",
    "\n",
    "`` pip install numpy``\n",
    "\n",
    "inside your environment"
   ]
  },
  {
   "cell_type": "markdown",
   "metadata": {},
   "source": [
    "To import\n",
    "\n",
    "``import numpy``\n",
    "\n",
    "But usually everyone aliases it like this"
   ]
  },
  {
   "cell_type": "code",
   "execution_count": 5,
   "metadata": {
    "ExecuteTime": {
     "end_time": "2020-05-24T12:39:24.377115Z",
     "start_time": "2020-05-24T12:39:24.259620Z"
    }
   },
   "outputs": [],
   "source": [
    "import numpy as np"
   ]
  },
  {
   "cell_type": "markdown",
   "metadata": {},
   "source": [
    "> **Resources** :  \n",
    "> [The Official Numpy Quickstart Guide](https://numpy.org/devdocs/user/quickstart.html)  \n",
    "> [A nice short tutorial on Python and Numpy](https://cs231n.github.io/python-numpy-tutorial)  \n",
    "> [A cheatsheet covering most of the basic things you want to do with numpy](https://www.dataquest.io/blog/numpy-cheat-sheet/)  "
   ]
  },
  {
   "cell_type": "markdown",
   "metadata": {},
   "source": [
    "### Numpy Basics"
   ]
  },
  {
   "cell_type": "markdown",
   "metadata": {},
   "source": [
    "* np.array attributes : size, shape, dtype, T, \n",
    "* automatically creating some preset types of arrays\n",
    "    * zeros, ones, array, with type, np.arange, np.linspace\n",
    "    * np.random - rand, randn, randint\n",
    "    \n",
    "Lets have a look at few basic commands: <br>\n",
    "* Array creation: array, ones, zeros, arrange, empty, linspace\n",
    "* Array manipulation: ndim, shape, size, dtype, reshape\n",
    "* Functions: pi, sin, cos\n",
    "\n",
    "What if we try to print a large array?"
   ]
  },
  {
   "cell_type": "code",
   "execution_count": 39,
   "metadata": {},
   "outputs": [
    {
     "name": "stdout",
     "output_type": "stream",
     "text": [
      "10000\n",
      "[0.00000000e+00 1.00010001e-03 2.00020002e-03 ... 9.99799980e+00\n",
      " 9.99899990e+00 1.00000000e+01]\n"
     ]
    }
   ],
   "source": [
    "a = np.ones((3,4), dtype = np.int64)\n",
    "c = list(range(10))\n",
    "\n",
    "a = np.array([1,3,6,9])\n",
    "b = np.arange(9) # b = np.array(list(range(9)))\n",
    "\n",
    "c = np.linspace(0,10,10000)  # np.linspace(start, end, no of enteries)\n",
    "print(c.size)\n",
    "# range(start, end, step_size)\n",
    "print(c)"
   ]
  },
  {
   "cell_type": "code",
   "execution_count": 8,
   "metadata": {},
   "outputs": [
    {
     "name": "stdout",
     "output_type": "stream",
     "text": [
      "1000\n",
      "1000\n",
      "1000\n"
     ]
    }
   ],
   "source": [
    "a = np.arange(1000)\n",
    "print(a.size)\n",
    "#print(a.shape)\n",
    "#print(a.ndim)\n",
    "b = a.reshape(10,10,10)\n",
    "print()\n",
    "#print('-'*10)\n",
    "#print(b.shape)\n",
    "#print(b.ndim)\n",
    "\n",
    "#shape = h x C x W  cube   \n",
    "# square: row x column\n",
    "\n",
    "print(a.size)  # a.size = product of (a.shape)\n",
    "print(b.size)\n"
   ]
  },
  {
   "cell_type": "code",
   "execution_count": 113,
   "metadata": {},
   "outputs": [
    {
     "name": "stdout",
     "output_type": "stream",
     "text": [
      "(2, 3)\n",
      "[[0 1 2]\n",
      " [3 4 5]]\n",
      "6\n"
     ]
    }
   ],
   "source": [
    "a = np.arange(6).reshape(2,3)\n",
    "print(a.shape)\n",
    "print(a)\n",
    "print(a.size)"
   ]
  },
  {
   "cell_type": "code",
   "execution_count": 114,
   "metadata": {
    "ExecuteTime": {
     "end_time": "2020-05-24T12:39:24.399312Z",
     "start_time": "2020-05-24T12:39:24.380007Z"
    }
   },
   "outputs": [
    {
     "name": "stdout",
     "output_type": "stream",
     "text": [
      "[1. 2. 3.] 1 (3,) 3 float32 4\n",
      "[1. 2. 3.] 1 (3,) 3 float64 8\n",
      "[1.5 2.6 7.7] 1 (3,) 3 float64 8\n",
      "[ True False] 1 (2,) 2 bool 1\n",
      "[1 0] 1 (2,) 2 int32 4\n"
     ]
    }
   ],
   "source": [
    "# np.array to create a numpy array from list\n",
    "\n",
    "# you can create arrays with multiple types - int32, int64, float32, float64, bool etc\n",
    "# interesting array attributes : size, shape, dtype, ndim, itemsize \n",
    "\n",
    "x = np.array([1,2,3])\n",
    "#print(x, x.ndim, x.shape, x.size, x.dtype, x.itemsize)\n",
    "\n",
    "x = np.array([1,2,3],dtype=\"int64\")\n",
    "#print(x, x.ndim, x.shape, x.size, x.dtype,x.itemsize)\n",
    "\n",
    "x = np.array([1,2,3],dtype=\"float32\")\n",
    "print(x, x.ndim, x.shape, x.size, x.dtype, x.itemsize)\n",
    "\n",
    "x = np.array([1,2,3],dtype=\"float64\")\n",
    "print(x, x.ndim, x.shape, x.size, x.dtype,x.itemsize)\n",
    "\n",
    "# otherwise numpy automatically guesses the type\n",
    "\n",
    "x = np.array([1.5,2.6,7.7])\n",
    "print(x, x.ndim, x.shape, x.size, x.dtype,x.itemsize)\n",
    "\n",
    "x = np.array([True, False])  # boolean : True or False\n",
    "print(x, x.ndim, x.shape, x.size, x.dtype,x.itemsize)\n",
    "\n",
    "# regular bool to int conversion \n",
    "x = np.array([True, False],dtype=\"int32\")\n",
    "print(x, x.ndim, x.shape, x.size, x.dtype,x.itemsize)"
   ]
  },
  {
   "cell_type": "code",
   "execution_count": 10,
   "metadata": {
    "scrolled": true
   },
   "outputs": [
    {
     "name": "stdout",
     "output_type": "stream",
     "text": [
      "0\n",
      "1\n",
      "[1, 2, 3.0, 5]\n",
      "int32\n",
      "[1 2 3 5]\n"
     ]
    }
   ],
   "source": [
    "print(int(False))\n",
    "print(int(True))\n",
    "c = [1, 2, 3.0, 5]\n",
    "print(c)\n",
    "a = np.array(c, dtype=np.int32)\n",
    "print(a.dtype)\n",
    "print(a)"
   ]
  },
  {
   "cell_type": "code",
   "execution_count": 11,
   "metadata": {},
   "outputs": [
    {
     "name": "stdout",
     "output_type": "stream",
     "text": [
      "False\n",
      "True\n"
     ]
    }
   ],
   "source": [
    "print(2 == 3)\n",
    "print(4==4)"
   ]
  },
  {
   "cell_type": "code",
   "execution_count": 132,
   "metadata": {},
   "outputs": [
    {
     "name": "stdout",
     "output_type": "stream",
     "text": [
      "(10, 100)\n",
      "2\n",
      "(100, 2, 5)\n"
     ]
    }
   ],
   "source": [
    "# Example of N-Dimensional np array.\n",
    "\n",
    "a = np.arange(1000).reshape(10,100)\n",
    "print(a.shape)\n",
    "print(a.ndim)\n",
    "b = a.reshape(100,2,5)\n",
    "print(b.shape)"
   ]
  },
  {
   "cell_type": "code",
   "execution_count": 136,
   "metadata": {},
   "outputs": [
    {
     "name": "stdout",
     "output_type": "stream",
     "text": [
      "[[1, 2, 3], [4, 6, 9]]\n",
      "(2, 3)\n"
     ]
    }
   ],
   "source": [
    "c = [\n",
    "    [1,2,3],[4,6,9]\n",
    "]\n",
    "print(c)\n",
    "c = np.array(c)\n",
    "print(c.shape)"
   ]
  },
  {
   "cell_type": "code",
   "execution_count": 135,
   "metadata": {},
   "outputs": [
    {
     "name": "stdout",
     "output_type": "stream",
     "text": [
      "[[[1, 2, 3], [4, 5, 6]], [[8, 9, 0], [7, 6, 7]]]\n",
      "(2, 2, 3)\n"
     ]
    }
   ],
   "source": [
    "c = [\n",
    "    [\n",
    "        [1,2,3], [4,5,6]\n",
    "    ],\n",
    "    [\n",
    "        [8,9,0],[7,6,7]\n",
    "    ]\n",
    "]\n",
    "\n",
    "print(c)\n",
    "c = np.array(c)\n",
    "print(c.shape)"
   ]
  },
  {
   "cell_type": "code",
   "execution_count": 138,
   "metadata": {
    "ExecuteTime": {
     "end_time": "2020-05-24T12:39:24.408817Z",
     "start_time": "2020-05-24T12:39:24.401283Z"
    }
   },
   "outputs": [
    {
     "name": "stdout",
     "output_type": "stream",
     "text": [
      "[[0.89012943 0.95057931 0.73957614]\n",
      " [0.32044759 0.11317706 0.21559414]\n",
      " [0.64161899 0.22493727 0.19792863]\n",
      " [0.64161899 0.22493727 0.19792863]]\n",
      "2 (4, 3) 12 float64 8\n"
     ]
    }
   ],
   "source": [
    "# you can create multidimensional arrays\n",
    "\n",
    "# a 2-d array\n",
    "\n",
    "# sub arrays shapes have to be equal\n",
    "x = np.array([[0.89012943, 0.95057931, 0.73957614],\n",
    "       [0.32044759, 0.11317706, 0.21559414],\n",
    "       [0.64161899, 0.22493727, 0.19792863],\n",
    "       [0.64161899, 0.22493727, 0.19792863]])\n",
    "\n",
    "print(x)\n",
    "\n",
    "print(x.ndim, x.shape, x.size, x.dtype,x.itemsize)\n"
   ]
  },
  {
   "cell_type": "code",
   "execution_count": 139,
   "metadata": {},
   "outputs": [
    {
     "name": "stdout",
     "output_type": "stream",
     "text": [
      "3 (4, 3, 3) 36 float64 8\n"
     ]
    }
   ],
   "source": [
    "# a 3-d array\n",
    "\n",
    "x = np.array([[[0.95059078, 0.4920439 , 0.19623088],\n",
    "        [0.35948661, 0.03963015, 0.01359072],\n",
    "        [0.60065644, 0.43182609, 0.5839114 ]],\n",
    "\n",
    "       [[0.49141504, 0.69129956, 0.53504228],\n",
    "        [0.39380831, 0.90347317, 0.77581393],\n",
    "        [0.77241933, 0.65354209, 0.00165317]],\n",
    "\n",
    "       [[0.09852572, 0.48191009, 0.75421498],\n",
    "        [0.73972572, 0.03630696, 0.88197898],\n",
    "        [0.64376238, 0.77181998, 0.27395923]],\n",
    "\n",
    "       [[0.86325292, 0.77815359, 0.85744606],\n",
    "        [0.05330425, 0.79149102, 0.57572194],\n",
    "        [0.92416049, 0.07126161, 0.15124192]]])\n",
    "\n",
    "print(x.ndim, x.shape, x.size, x.dtype,x.itemsize)"
   ]
  },
  {
   "cell_type": "code",
   "execution_count": 143,
   "metadata": {
    "ExecuteTime": {
     "end_time": "2020-05-24T12:39:24.423280Z",
     "start_time": "2020-05-24T12:39:24.410718Z"
    }
   },
   "outputs": [
    {
     "name": "stdout",
     "output_type": "stream",
     "text": [
      "******************************\n",
      "[2 4 6 8]\n",
      "1 (4,) 4 int64 8\n"
     ]
    }
   ],
   "source": [
    "# numpy provides some functions to create some standard arrays\n",
    "# np.zeros. np.ones, np.arange, np.linspace\n",
    "\n",
    "#print(\"*\"*30)\n",
    "# just zeros, you can specify the dtype\n",
    "x=np.zeros(shape=(1,3,4),dtype=\"float32\")\n",
    "#print(x)\n",
    "#print(x.ndim, x.shape, x.size, x.dtype,x.itemsize)\n",
    "\n",
    "\n",
    "#print(\"*\"*30)\n",
    "# just ones\n",
    "x=np.ones((1,3,4), dtype = 'int32')\n",
    "#print(x)\n",
    "#print(x.ndim, x.shape, x.size, x.dtype,x.itemsize)\n",
    "\n",
    "\n",
    "print(\"*\"*30)\n",
    "# a range of integer (like python range())\n",
    "x=np.arange(2,10,2)\n",
    "print(x)\n",
    "print(x.ndim, x.shape, x.size, x.dtype,x.itemsize)\n",
    "\n",
    "#print(\"*\"*30)\n",
    "# more generally to get equal divisions between two numbers\n",
    "x=np.linspace(2.2,8.1,100)\n",
    "#print(x)\n",
    "#print(x.ndim, x.shape, x.size, x.dtype,x.itemsize)"
   ]
  },
  {
   "cell_type": "markdown",
   "metadata": {},
   "source": [
    "### Numpy random submodule\n",
    "#### Use?\n",
    "Machine Learning weights initialization"
   ]
  },
  {
   "cell_type": "code",
   "execution_count": 40,
   "metadata": {
    "ExecuteTime": {
     "end_time": "2020-05-24T12:39:24.433104Z",
     "start_time": "2020-05-24T12:39:24.425223Z"
    }
   },
   "outputs": [
    {
     "name": "stdout",
     "output_type": "stream",
     "text": [
      "[[10.37832739 10.01460012]\n",
      " [10.32408034 10.05933534]\n",
      " [10.07093262 10.46504084]] (3, 2) float64\n",
      "******************************\n",
      "[[0.62749774 0.627892   0.85908209 0.09679144]\n",
      " [0.04145308 0.04995615 0.31390502 0.54546021]\n",
      " [0.84304337 0.80353633 0.32588973 0.42131974]] (3, 4) float64\n",
      "******************************\n"
     ]
    }
   ],
   "source": [
    "# np.random is a module that gives options to create random arrays as well\n",
    "# np.random.randint, np.random.uniform, \n",
    "\n",
    "# a 1 dimensional array of random integers\n",
    "x=np.random.randint(10,90, (3,3)) # np.random.randint(lowest number to include, highest integer, no. of integers)\n",
    "#print(x, x.shape, x.dtype)\n",
    "#print(\"*\"*30)\n",
    "\n",
    "# any n-dimensional array of random numbers between 0 and 1 (uniformly distributed)\n",
    "x=np.random.random_sample(size=(3,2))\n",
    "#print(x, x.shape, x.dtype)\n",
    "#print(\"*\"*30)\n",
    "\n",
    "# more generally between a and b (uniformly distributed)\n",
    "x=np.random.uniform(10,10.5,size=(3,2))\n",
    "print(x, x.shape, x.dtype)\n",
    "print(\"*\"*30)\n",
    "x=np.random.random((3,4))\n",
    "print(x, x.shape, x.dtype)\n",
    "print(\"*\"*30)"
   ]
  },
  {
   "cell_type": "markdown",
   "metadata": {},
   "source": [
    "* slicing and indexing, all indices vs few indices"
   ]
  },
  {
   "cell_type": "code",
   "execution_count": 20,
   "metadata": {},
   "outputs": [
    {
     "name": "stdout",
     "output_type": "stream",
     "text": [
      "(3,)\n",
      "(3,)\n"
     ]
    }
   ],
   "source": [
    "# Difference between List and Numpy indexing\n",
    "\n",
    "c = list(range(10))\n",
    "#print(c)\n",
    "#print(c[8])\n",
    "c = [\n",
    "    [1,2,3], [3,4,5]\n",
    "]\n",
    "#print(c[0])\n",
    "#print(type(c[0]))\n",
    "#print(c[0][1])\n",
    "d = np.array(c)\n",
    "#print(d)\n",
    "#print(d[0,2])\n",
    "\n",
    "x = np.array([[[0.95059078, 0.4920439 , 0.19623088],\n",
    "        [0.35948661, 0.03963015, 0.01359072],\n",
    "        [0.60065644, 0.43182609, 0.5839114 ]],\n",
    "\n",
    "       [[0.49141504, 0.69129956, 0.53504228],\n",
    "        [0.39380831, 0.90347317, 0.77581393],\n",
    "        [0.77241933, 0.65354209, 0.00165317]],\n",
    "\n",
    "       [[0.09852572, 0.48191009, 0.75421498],\n",
    "        [0.73972572, 0.03630696, 0.88197898],\n",
    "        [0.64376238, 0.77181998, 0.27395923]],\n",
    "\n",
    "       [[0.86325292, 0.77815359, 0.85744606],\n",
    "        [0.05330425, 0.79149102, 0.57572194],\n",
    "        [0.92416049, 0.07126161, 0.15124192]]])\n",
    "\n",
    "print(x[2,2,2])\n",
    "print(x[2][2][2])"
   ]
  },
  {
   "cell_type": "code",
   "execution_count": 171,
   "metadata": {},
   "outputs": [
    {
     "name": "stdout",
     "output_type": "stream",
     "text": [
      "[0 1 2 3 4 5 6 7 8 9]\n",
      "[0 1 2 3 4]\n",
      "[5 6 7 8 9]\n",
      "[0 1 2 3 4 5 6 7 8 9]\n"
     ]
    }
   ],
   "source": [
    "c = list(range(10))\n",
    "c = np.array(c)\n",
    "print(c)\n",
    "print(c[:5])\n",
    "print(c[5:])\n",
    "print(c[:])"
   ]
  },
  {
   "cell_type": "code",
   "execution_count": null,
   "metadata": {},
   "outputs": [],
   "source": [
    "# Negative indices\n",
    "\n",
    "# Complete vs incomplete slices : x[0] vs x[0,:,:]"
   ]
  },
  {
   "cell_type": "code",
   "execution_count": 21,
   "metadata": {
    "ExecuteTime": {
     "end_time": "2020-05-24T12:39:24.441694Z",
     "start_time": "2020-05-24T12:39:24.435584Z"
    }
   },
   "outputs": [
    {
     "name": "stdout",
     "output_type": "stream",
     "text": [
      "(1, 2)\n",
      "(6, 5)\n",
      "(6, 5)\n"
     ]
    }
   ],
   "source": [
    "# numpy indexing and slicing\n",
    "\n",
    "# mixing indices and slices\n",
    "\n",
    "x=np.random.uniform(low=10,high=10.5,size=(4,6,5))\n",
    "\n",
    "#print(x.shape)\n",
    "#print(x[0])\n",
    "#print(x[0].shape)\n",
    "#print(x[1:3].shape)\n",
    "#print(x[1:3, :, :].shape)\n",
    "#print(x[1:-1].shape) # 0, 1, 2, 3\n",
    "#print(x[1:-1,:,:].shape)\n",
    "\n",
    "#print(x[1:3,2:5,3:].shape)     # x[   1:3,   2:5,    3:]\n",
    "\n",
    "print(x[1:2,2,3:].shape)\n",
    "print(x[1].shape)\n",
    "print(x[1,:,:].shape)"
   ]
  },
  {
   "cell_type": "code",
   "execution_count": 187,
   "metadata": {},
   "outputs": [
    {
     "name": "stdout",
     "output_type": "stream",
     "text": [
      "(2, 3)\n",
      "(3,)\n"
     ]
    }
   ],
   "source": [
    "c = [\n",
    "    [1,2,3], [3,4,5]\n",
    "]\n",
    "c = np.array(c)\n",
    "\n",
    "print(c.shape)\n",
    "print(c[1].shape)"
   ]
  },
  {
   "cell_type": "markdown",
   "metadata": {},
   "source": [
    "* operations on arrays of same size\n",
    "    * numpy mathematical functions - sin, cos, log etc\n",
    "    * scalar arithmetic\n",
    "    * arithmetic operations, upcasting\n",
    "    * comparison operations\n",
    "        * np.all, np.any\n",
    "        * np.where, np.argwhere, np.nonzero"
   ]
  },
  {
   "cell_type": "code",
   "execution_count": 189,
   "metadata": {
    "ExecuteTime": {
     "end_time": "2020-05-24T12:39:24.447200Z",
     "start_time": "2020-05-24T12:39:24.443684Z"
    }
   },
   "outputs": [
    {
     "name": "stdout",
     "output_type": "stream",
     "text": [
      "[[4 6 6]\n",
      " [3 9 1]]\n"
     ]
    }
   ],
   "source": [
    "x=np.random.randint(low=1,high=10,size=(2,3))\n",
    "print(x)"
   ]
  },
  {
   "cell_type": "code",
   "execution_count": 193,
   "metadata": {
    "ExecuteTime": {
     "end_time": "2020-05-24T12:39:24.454499Z",
     "start_time": "2020-05-24T12:39:24.448674Z"
    }
   },
   "outputs": [
    {
     "name": "stdout",
     "output_type": "stream",
     "text": [
      "[[4 6 6]\n",
      " [3 9 1]]\n",
      "\n",
      "[[1 2 2]\n",
      " [1 3 0]]\n",
      "\n",
      "[[1 0 0]\n",
      " [0 0 1]]\n",
      "\n"
     ]
    }
   ],
   "source": [
    "# You can do arithmetic between numpy arrays and scalars\n",
    "# These operations are element wise\n",
    "\n",
    "print(x,end=\"\\n\\n\")\n",
    "#print(x+2,end=\"\\n\\n\")\n",
    "#print(x-2,end=\"\\n\\n\")\n",
    "#print(x*2,end=\"\\n\\n\")\n",
    "#print(x/2,end=\"\\n\\n\")\n",
    "#print(x**3,end=\"\\n\\n\")\n",
    "print(x//3,end=\"\\n\\n\")\n",
    "print(x%3,end=\"\\n\\n\")"
   ]
  },
  {
   "cell_type": "code",
   "execution_count": 198,
   "metadata": {},
   "outputs": [
    {
     "name": "stdout",
     "output_type": "stream",
     "text": [
      "[[4 6 6]\n",
      " [3 9 1]]\n",
      "[[False  True  True]\n",
      " [False False False]]\n"
     ]
    }
   ],
   "source": [
    "# Less than or Greater than a number\n",
    "print(x)\n",
    "print(x==6)"
   ]
  },
  {
   "cell_type": "code",
   "execution_count": 199,
   "metadata": {
    "ExecuteTime": {
     "end_time": "2020-05-24T12:39:24.461652Z",
     "start_time": "2020-05-24T12:39:24.456200Z"
    }
   },
   "outputs": [
    {
     "name": "stdout",
     "output_type": "stream",
     "text": [
      "[[-0.7568025  -0.2794155  -0.2794155 ]\n",
      " [ 0.14112001  0.41211849  0.84147098]]\n",
      "\n",
      "[[-0.65364362  0.96017029  0.96017029]\n",
      " [-0.9899925  -0.91113026  0.54030231]]\n",
      "\n",
      "[[1. 1. 1.]\n",
      " [1. 1. 1.]]\n",
      "\n",
      "[[2.         2.44948974 2.44948974]\n",
      " [1.73205081 3.         1.        ]]\n",
      "\n"
     ]
    }
   ],
   "source": [
    "# You can use some elementwise global functions on numpy arrays\n",
    "# like np.sin, cos, exp, log, sqrt\n",
    "\n",
    "print(np.sin(x),end=\"\\n\\n\")\n",
    "print(np.cos(x),end=\"\\n\\n\")\n",
    "print(np.sin(x)**2 + np.cos(x)**2,end=\"\\n\\n\")\n",
    "print(np.sqrt(x),end=\"\\n\\n\")"
   ]
  },
  {
   "cell_type": "code",
   "execution_count": 200,
   "metadata": {
    "ExecuteTime": {
     "end_time": "2020-05-24T12:39:24.468144Z",
     "start_time": "2020-05-24T12:39:24.463557Z"
    }
   },
   "outputs": [
    {
     "name": "stdout",
     "output_type": "stream",
     "text": [
      "[[1 8 6]\n",
      " [2 5 1]]\n",
      "[[6 5 3]\n",
      " [3 2 9]]\n"
     ]
    }
   ],
   "source": [
    "x=np.random.randint(low=1,high=10,size=(2,3),dtype=\"int32\")\n",
    "print(x)\n",
    "y=np.random.randint(low=1,high=10,size=(2,3),dtype=\"int64\")\n",
    "print(y)"
   ]
  },
  {
   "cell_type": "code",
   "execution_count": 201,
   "metadata": {
    "ExecuteTime": {
     "end_time": "2020-05-24T12:39:24.477401Z",
     "start_time": "2020-05-24T12:39:24.469726Z"
    }
   },
   "outputs": [
    {
     "name": "stdout",
     "output_type": "stream",
     "text": [
      "[[ 7 13  9]\n",
      " [ 5  7 10]]\n",
      "\n",
      "[[-5  3  3]\n",
      " [-1  3 -8]]\n",
      "\n",
      "[[ 6 40 18]\n",
      " [ 6 10  9]]\n",
      "\n",
      "[[0.16666667 1.6        2.        ]\n",
      " [0.66666667 2.5        0.11111111]]\n",
      "\n",
      "[[    1 32768   216]\n",
      " [    8    25     1]]\n",
      "\n",
      "int32\n",
      "float64\n"
     ]
    }
   ],
   "source": [
    "# elementwise binary arithmetic operations on arrays of same shape\n",
    "# + , - , *, /\n",
    "# upcasting\n",
    "# Shape of both arrays need to be same, we will handle different shape arrays later on in Broadcasting\n",
    "print(x+y,end=\"\\n\\n\")\n",
    "print(x-y,end=\"\\n\\n\")\n",
    "print(x*y,end=\"\\n\\n\")\n",
    "print(x/y,end=\"\\n\\n\")\n",
    "print(x**y,end=\"\\n\\n\")\n",
    "\n",
    "# Operations between different types results in upcasting to a compatible larger type\n",
    "# which can contain both types : ex : int32 + float32 = float32\n",
    "print(x.dtype)\n",
    "zeros=np.zeros((2,3),dtype=\"float32\")\n",
    "print((x+zeros).dtype)"
   ]
  },
  {
   "cell_type": "code",
   "execution_count": 207,
   "metadata": {},
   "outputs": [
    {
     "name": "stdout",
     "output_type": "stream",
     "text": [
      "[[1 8 6]\n",
      " [2 5 1]]\n",
      "[[6 3]\n",
      " [5 2]\n",
      " [3 9]]\n",
      "[[ 6 40 18]\n",
      " [ 6 10  9]]\n",
      "[[64 73]\n",
      " [40 25]]\n",
      "[[64 73]\n",
      " [40 25]]\n"
     ]
    }
   ],
   "source": [
    "# Matrix multiplication\n",
    "print(x)\n",
    "print(y.T)\n",
    "\n",
    "print(x*y)  # element wise multiplication\n",
    "print(x.dot(y.T))\n",
    "print(x@y.T)\n",
    "\n",
    "# x = (2,3)   y = (2,3)  y.T = (3,2)   x.dot(y.T) = (2,2)"
   ]
  },
  {
   "cell_type": "code",
   "execution_count": 208,
   "metadata": {
    "ExecuteTime": {
     "end_time": "2020-05-24T12:39:24.482486Z",
     "start_time": "2020-05-24T12:39:24.479054Z"
    }
   },
   "outputs": [
    {
     "name": "stdout",
     "output_type": "stream",
     "text": [
      "[[1 8 6]\n",
      " [2 5 1]]\n",
      "[[False  True  True]\n",
      " [False  True False]]\n"
     ]
    }
   ],
   "source": [
    "# You can also compare numpy arrays with other arrays or scalars\n",
    "# For now we restrict to both arrays having the same shape\n",
    "# elementwise comparison operators >, <, ==, != etc\n",
    "print(x)\n",
    "print(x > 2)\n",
    "#print(x > y)"
   ]
  },
  {
   "cell_type": "code",
   "execution_count": 212,
   "metadata": {
    "ExecuteTime": {
     "end_time": "2020-05-24T12:39:24.488513Z",
     "start_time": "2020-05-24T12:39:24.484356Z"
    }
   },
   "outputs": [
    {
     "name": "stdout",
     "output_type": "stream",
     "text": [
      "True\n"
     ]
    }
   ],
   "source": [
    "# np.all(boolean_array) is True if all of the elements in boolean_array is True\n",
    "# np.any(boolean_array) is True if at least one of the elements in boolean_array is True\n",
    "#print(np.all(x>0))\n",
    "print(np.any(x==2))"
   ]
  },
  {
   "cell_type": "code",
   "execution_count": 26,
   "metadata": {
    "ExecuteTime": {
     "end_time": "2020-05-24T12:39:24.496610Z",
     "start_time": "2020-05-24T12:39:24.490220Z"
    }
   },
   "outputs": [
    {
     "name": "stdout",
     "output_type": "stream",
     "text": [
      "[[[10.21086849 10.45614858 10.06085561 10.00210571 10.31289752]\n",
      "  [10.15478653 10.2025137  10.4393493  10.32300117 10.29768191]\n",
      "  [10.2356706  10.30681989 10.48387061 10.45258147 10.39516478]\n",
      "  [10.42988102 10.47659671 10.07656252 10.30084437 10.37312421]\n",
      "  [10.35056755 10.0152244  10.14337598 10.26968234 10.31034057]\n",
      "  [10.49700348 10.42392979 10.38269157 10.25169307 10.47621213]]\n",
      "\n",
      " [[10.36442749 10.40041197 10.41781427 10.35636599 10.12678436]\n",
      "  [10.23636095 10.2706737  10.46417705 10.45862992 10.43831937]\n",
      "  [10.1630925  10.13923916 10.27748365 10.19774908 10.0065882 ]\n",
      "  [10.389706   10.41046541 10.01731296 10.10937528 10.05984932]\n",
      "  [10.14150233 10.19893291 10.08035789 10.28539832 10.26231354]\n",
      "  [10.02284588 10.01804097 10.32437539 10.05270884 10.46989539]]\n",
      "\n",
      " [[10.16506725 10.26593591 10.0936059  10.08224438 10.16577367]\n",
      "  [10.48305021 10.47240107 10.42066756 10.00573931 10.44786127]\n",
      "  [10.20585045 10.47923819 10.1948667  10.20139964 10.34547801]\n",
      "  [10.18061826 10.08020303 10.35941532 10.4200621  10.38608149]\n",
      "  [10.2696663  10.12379374 10.12773524 10.13365758 10.4582898 ]\n",
      "  [10.31992    10.38626915 10.25402293 10.46642038 10.4577669 ]]\n",
      "\n",
      " [[10.11960416 10.19759373 10.38146102 10.04591743 10.1130961 ]\n",
      "  [10.24866245 10.04185466 10.10830841 10.47952742 10.15410742]\n",
      "  [10.31191804 10.39588365 10.10102089 10.13207853 10.1552393 ]\n",
      "  [10.38615705 10.31161608 10.02440479 10.43729445 10.16100663]\n",
      "  [10.18763605 10.07269425 10.13675885 10.22808046 10.02020392]\n",
      "  [10.06022749 10.14210135 10.4958647  10.4178849  10.49732949]]]\n",
      "[[[-20  20 -20 -20  20]\n",
      "  [-20 -20  20  20  20]\n",
      "  [-20  20  20  20  20]\n",
      "  [ 20  20 -20  20  20]\n",
      "  [ 20 -20 -20  20  20]\n",
      "  [ 20  20  20  20  20]]\n",
      "\n",
      " [[ 20  20  20  20 -20]\n",
      "  [-20  20  20  20  20]\n",
      "  [-20 -20  20 -20 -20]\n",
      "  [ 20  20 -20 -20 -20]\n",
      "  [-20 -20 -20  20  20]\n",
      "  [-20 -20  20 -20  20]]\n",
      "\n",
      " [[-20  20 -20 -20 -20]\n",
      "  [ 20  20  20 -20  20]\n",
      "  [-20  20 -20 -20  20]\n",
      "  [-20 -20  20  20  20]\n",
      "  [ 20 -20 -20 -20  20]\n",
      "  [ 20  20  20  20  20]]\n",
      "\n",
      " [[-20 -20  20 -20 -20]\n",
      "  [-20 -20 -20  20 -20]\n",
      "  [ 20  20 -20 -20 -20]\n",
      "  [ 20  20 -20  20 -20]\n",
      "  [-20 -20 -20 -20 -20]\n",
      "  [-20 -20  20  20  20]]]\n",
      "[[[ 0.         10.45614858  0.          0.         10.31289752]\n",
      "  [ 0.          0.         10.4393493  10.32300117 10.29768191]\n",
      "  [ 0.         10.30681989 10.48387061 10.45258147 10.39516478]\n",
      "  [10.42988102 10.47659671  0.         10.30084437 10.37312421]\n",
      "  [10.35056755  0.          0.         10.26968234 10.31034057]\n",
      "  [10.49700348 10.42392979 10.38269157 10.25169307 10.47621213]]\n",
      "\n",
      " [[10.36442749 10.40041197 10.41781427 10.35636599  0.        ]\n",
      "  [ 0.         10.2706737  10.46417705 10.45862992 10.43831937]\n",
      "  [ 0.          0.         10.27748365  0.          0.        ]\n",
      "  [10.389706   10.41046541  0.          0.          0.        ]\n",
      "  [ 0.          0.          0.         10.28539832 10.26231354]\n",
      "  [ 0.          0.         10.32437539  0.         10.46989539]]\n",
      "\n",
      " [[ 0.         10.26593591  0.          0.          0.        ]\n",
      "  [10.48305021 10.47240107 10.42066756  0.         10.44786127]\n",
      "  [ 0.         10.47923819  0.          0.         10.34547801]\n",
      "  [ 0.          0.         10.35941532 10.4200621  10.38608149]\n",
      "  [10.2696663   0.          0.          0.         10.4582898 ]\n",
      "  [10.31992    10.38626915 10.25402293 10.46642038 10.4577669 ]]\n",
      "\n",
      " [[ 0.          0.         10.38146102  0.          0.        ]\n",
      "  [ 0.          0.          0.         10.47952742  0.        ]\n",
      "  [10.31191804 10.39588365  0.          0.          0.        ]\n",
      "  [10.38615705 10.31161608  0.         10.43729445  0.        ]\n",
      "  [ 0.          0.          0.          0.          0.        ]\n",
      "  [ 0.          0.         10.4958647  10.4178849  10.49732949]]]\n"
     ]
    }
   ],
   "source": [
    "# np.where(boolean_array): Get tuple of indices where boolean array is True\n",
    "print(x)\n",
    "#print(\"\\n\")\n",
    "#print(y)\n",
    "#print(\"\\n\")\n",
    "#print(np.where(x>=y))\n",
    "#print(\"\\n\")\n",
    "# np.where(boolean_array, A, B): If entry in boolean_array is True, choose entry from A else from B\n",
    "# Thus, A,B, and boolean_array have to be of the same shape (or A or B can be scalar)\n",
    "#max_xy=np.maximum(x,y)\n",
    "#max_xy_w=np.where(x>y,x,y)\n",
    "#print(np.all(max_xy_w==max_xy))\n",
    "#print(\"\\n\")\n",
    "print(np.where(x>10.25,20,-20))\n",
    "print(np.where(x>10.25, x, 0))"
   ]
  },
  {
   "cell_type": "code",
   "execution_count": 32,
   "metadata": {
    "ExecuteTime": {
     "end_time": "2020-05-24T12:39:24.502639Z",
     "start_time": "2020-05-24T12:39:24.498569Z"
    }
   },
   "outputs": [
    {
     "name": "stdout",
     "output_type": "stream",
     "text": [
      "[[9 6 7]\n",
      " [3 1 2]]\n",
      "(array([0, 0, 0, 1]), array([0, 1, 2, 0]))\n",
      "[[0 0]\n",
      " [0 1]\n",
      " [0 2]\n",
      " [1 0]]\n"
     ]
    }
   ],
   "source": [
    "# np.nonzero(boolean_array) : Get tuple of indices where boolean array is True, same as np.where\n",
    "# np.argwhere(boolean_array) : Something like a transpose of np.nonzero...\n",
    "print(x)\n",
    "print(np.nonzero(x>2))\n",
    "print(np.argwhere(x>2))"
   ]
  },
  {
   "cell_type": "markdown",
   "metadata": {},
   "source": [
    "Miscellaneous \n",
    "\n",
    "* astype()\n",
    "* sum, min, max, argmin, argmax, sort, argsort\n",
    "* tolist()\n",
    "* copy()\n",
    "* np.concatenate"
   ]
  },
  {
   "cell_type": "code",
   "execution_count": 220,
   "metadata": {
    "ExecuteTime": {
     "end_time": "2020-05-24T12:39:24.509013Z",
     "start_time": "2020-05-24T12:39:24.504488Z"
    }
   },
   "outputs": [
    {
     "name": "stdout",
     "output_type": "stream",
     "text": [
      "int32\n",
      "float32\n",
      "bool\n",
      "[[ True  True  True]\n",
      " [ True  True  True]]\n"
     ]
    }
   ],
   "source": [
    "# arr.astype()\n",
    "# either string \"int32\" or np.int32\n",
    "x=np.random.randint(low=1,high=10,size=(2,3),dtype=\"int32\")\n",
    "print(x.dtype)\n",
    "x=x.astype(\"float32\")\n",
    "print(x.dtype)\n",
    "x=x.astype(\"bool\")\n",
    "print(x.dtype)\n",
    "print(x)"
   ]
  },
  {
   "cell_type": "code",
   "execution_count": 35,
   "metadata": {
    "ExecuteTime": {
     "end_time": "2020-05-24T12:39:24.520402Z",
     "start_time": "2020-05-24T12:39:24.510596Z"
    }
   },
   "outputs": [
    {
     "name": "stdout",
     "output_type": "stream",
     "text": [
      "[[8 7 9]\n",
      " [1 2 8]\n",
      " [3 9 8]\n",
      " [7 1 4]]\n",
      "******************************\n",
      "[8 9 9]\n",
      "2\n",
      "[0 2 0]\n",
      "[2 2 1 0]\n"
     ]
    }
   ],
   "source": [
    "# np.sort, np.max, np.argsort, np.argmax w/ and w/o axis parameter\n",
    "x=np.random.randint(low=1,high=10,size=(4,3),dtype=\"int32\")\n",
    "print(x)\n",
    "print('*'*30)\n",
    "#print(x.shape)\n",
    "#print(np.min(x))\n",
    "#print('*'*30)\n",
    "print(np.max(x,axis=0, keepdims = False))\n",
    "#print('*'*30)\n",
    "#print(np.max(x,axis=1))\n",
    "#print('*'*30)\n",
    "#print(\"\\n\"+\"-\"*10+\"\\n\")\n",
    "#print('*'*30)\n",
    "print(np.argmax(x))\n",
    "#print('*'*30)\n",
    "print(np.argmax(x,axis=0))\n",
    "#print('*'*30)\n",
    "print(np.argmax(x,axis=1))\n",
    "#print('*'*30)\n",
    "\n"
   ]
  },
  {
   "cell_type": "code",
   "execution_count": 229,
   "metadata": {},
   "outputs": [
    {
     "name": "stdout",
     "output_type": "stream",
     "text": [
      "[[2 9 9]\n",
      " [3 7 9]\n",
      " [3 9 1]\n",
      " [8 3 5]]\n",
      "[[0 1 2]\n",
      " [0 1 2]\n",
      " [2 0 1]\n",
      " [1 2 0]]\n"
     ]
    }
   ],
   "source": [
    "# np sort : default axis is -1\n",
    "print(x)\n",
    "#print(\"\\n\"+\"-\"*10+\"\\n\")\n",
    "#print(np.sort(x))\n",
    "#print(np.sort(x,axis=0))\n",
    "#print(np.sort(x,axis=1))\n",
    "\n",
    "#print(\"\\n\"+\"-\"*10+\"\\n\")\n",
    "print(np.argsort(x))\n",
    "#print(np.argsort(x,axis=0))\n",
    "#print(np.argsort(x,axis=1))"
   ]
  },
  {
   "cell_type": "code",
   "execution_count": 230,
   "metadata": {
    "scrolled": true
   },
   "outputs": [
    {
     "name": "stdout",
     "output_type": "stream",
     "text": [
      "140018352573136\n",
      "140018352573136\n",
      "140018117385072\n",
      "[[1000    9    9]\n",
      " [   3    7    9]\n",
      " [   3    9    1]\n",
      " [   8    3    5]]\n",
      "[[1000    9    9]\n",
      " [   3    7    9]\n",
      " [   3    9    1]\n",
      " [   8    3    5]]\n",
      "[[2 9 9]\n",
      " [3 7 9]\n",
      " [3 9 1]\n",
      " [8 3 5]]\n"
     ]
    }
   ],
   "source": [
    "# copying a numpy array\n",
    "# show using is, difference between view and copy\n",
    "print(id(x))\n",
    "y = x\n",
    "print(id(y))\n",
    "z = x.copy()\n",
    "print(id(z))\n",
    "x[0,0] = 1000\n",
    "print(x)\n",
    "print(y)\n",
    "print(z)"
   ]
  },
  {
   "cell_type": "code",
   "execution_count": 232,
   "metadata": {
    "ExecuteTime": {
     "end_time": "2020-05-24T12:39:24.535238Z",
     "start_time": "2020-05-24T12:39:24.525199Z"
    }
   },
   "outputs": [
    {
     "name": "stdout",
     "output_type": "stream",
     "text": [
      "<class 'numpy.ndarray'>\n",
      "<class 'list'>\n"
     ]
    }
   ],
   "source": [
    "# arr.tolist()\n",
    "# np.array(list) => np array\n",
    "print(type(x))\n",
    "y = x.tolist()\n",
    "print(type(y))"
   ]
  },
  {
   "cell_type": "code",
   "execution_count": 5,
   "metadata": {},
   "outputs": [
    {
     "name": "stdout",
     "output_type": "stream",
     "text": [
      "What is length?9\n",
      "What is the breadth?1\n",
      "9\n"
     ]
    }
   ],
   "source": [
    "x = input('What is length?')\n",
    "y = input('What is the breadth?')\n",
    "x = int(x)\n",
    "y = int(y)\n",
    "print(x*y)"
   ]
  },
  {
   "cell_type": "code",
   "execution_count": 6,
   "metadata": {},
   "outputs": [
    {
     "data": {
      "text/plain": [
       "[1, 2, 3, 4]"
      ]
     },
     "execution_count": 6,
     "metadata": {},
     "output_type": "execute_result"
    }
   ],
   "source": [
    "5+6\n",
    "'hello'+'people'\n",
    "[1,2]+[3,4]\n"
   ]
  },
  {
   "cell_type": "markdown",
   "metadata": {
    "ExecuteTime": {
     "end_time": "2020-05-24T05:22:52.671784Z",
     "start_time": "2020-05-24T05:22:52.669593Z"
    }
   },
   "source": [
    "### Broadcasting"
   ]
  },
  {
   "cell_type": "markdown",
   "metadata": {},
   "source": [
    "* Can you perform ``A+B`` when ``a.shape != b.shape``?\n",
    "* Sometimes, when their shapes are **compatible**\n",
    "\n",
    "How do you decide compatibility?\n",
    "* Case 1 : ndim is equal\n",
    "* Case 2 : ndim is not equal\n",
    "\n",
    "\n",
    "* For Case 1, for every axis where shape doesn't match, **one of the dimensions has to be 1**.\n",
    "* In that case the array with dimension = 1 is \"tiled\" or \"duplicated\" along the non matching axis, to match the larger array. \n",
    "* For example : ``A of shape (4,1,5) + B of shape(4,5,5)``, A is copied 5 times along the ``1`` axis to match the shape with B. Then it can be added.\n",
    "* Similarly, for the case ``A of shape(1,4,5) + B of shape(3,4,1)``\n",
    "    * A is copied along the 0-axis 3 times \n",
    "    * B is copied along the 2-axis 5 times\n",
    "    * Thereafter we can add A + B\n",
    "    \n"
   ]
  },
  {
   "cell_type": "code",
   "execution_count": 9,
   "metadata": {},
   "outputs": [
    {
     "name": "stdout",
     "output_type": "stream",
     "text": [
      "(4, 4)\n",
      "(4,)\n",
      "[[ 0  2  4  6]\n",
      " [ 4  6  8 10]\n",
      " [ 8 10 12 14]\n",
      " [12 14 16 18]]\n",
      "(4, 4)\n"
     ]
    }
   ],
   "source": [
    "# Example of case 1 broadcasting\n",
    "import numpy as np\n",
    "b = np.arange(16).reshape(4,4)\n",
    "print(b.shape)\n",
    "a = np.arange(4)\n",
    "print(a.shape)\n",
    "print(a+b)\n",
    "print((a+b).shape)"
   ]
  },
  {
   "cell_type": "markdown",
   "metadata": {},
   "source": [
    "* For Case 2, we first make ndim equal for both arrays - by prepending the smaller array with 1s.\n",
    "* For example,``A of shape (4,4,5,5) + B of shape(5,5)``, then first we convert B to shape ``(1,1,5,5)``.\n",
    "* Thereafter we apply Case 1. In this case A and B are broadcastable.\n",
    "* Another example,``A of shape (2,5) + B of shape(2,4,5)``, then first we convert A to shape ``(1,2,5)``. Then, in Case 1 however broadcasting will fail, because the 1-dimension is not same (2 vs 4).\n",
    "\n",
    "\n",
    "So which of the following combinations work for broadcasting?\n",
    "\n",
    "* (3,4,5) vs (4,5) vs (1,4,5)\n",
    "* (3,4,5) vs (5,) vs (1,5) vs (1,1,5)\n",
    "* (3,4,5) vs (1,) vs (1,1) vs (1,1,1) : Scalar case!\n",
    "* (3,4,5) vs (3,1,5)\n",
    "* (3,4,5) vs (4,4,5) ?\n",
    "* (3,4,5) vs (3,8,5) ?\n",
    "* (3,4,5) vs (3,4,7) ?\n",
    "    \n",
    "> https://numpy.org/devdocs/user/basics.broadcasting.html"
   ]
  },
  {
   "cell_type": "code",
   "execution_count": 11,
   "metadata": {
    "ExecuteTime": {
     "end_time": "2020-05-24T12:39:24.542742Z",
     "start_time": "2020-05-24T12:39:24.537531Z"
    },
    "code_folding": []
   },
   "outputs": [
    {
     "name": "stdout",
     "output_type": "stream",
     "text": [
      "[[[7 5]\n",
      "  [5 8]\n",
      "  [4 8]]\n",
      "\n",
      " [[1 3]\n",
      "  [4 9]\n",
      "  [9 8]]]\n",
      "[[[3 3]\n",
      "  [2 1]\n",
      "  [4 1]]\n",
      "\n",
      " [[5 2]\n",
      "  [4 3]\n",
      "  [5 3]]]\n",
      "[[[10  8]\n",
      "  [ 7  9]\n",
      "  [ 8  9]]\n",
      "\n",
      " [[ 6  5]\n",
      "  [ 8 12]\n",
      "  [14 11]]]\n"
     ]
    }
   ],
   "source": [
    "# Let's try the different cases we mentioned above and see what happens\n",
    "x=np.random.randint(low=1,high=10,size=(2,3,2),dtype=\"int32\")\n",
    "y=np.random.randint(low=1,high=10,size=(2,3,2),dtype=\"int32\")\n",
    "print(x)\n",
    "print(y)\n",
    "print(x+y)"
   ]
  },
  {
   "cell_type": "code",
   "execution_count": 13,
   "metadata": {},
   "outputs": [
    {
     "name": "stdout",
     "output_type": "stream",
     "text": [
      "[[[2 6]\n",
      "  [7 7]\n",
      "  [6 7]]\n",
      "\n",
      " [[1 5]\n",
      "  [4 9]\n",
      "  [7 3]]]\n",
      "[[6 4]\n",
      " [2 1]\n",
      " [5 5]]\n",
      "[[[ 8 10]\n",
      "  [ 9  8]\n",
      "  [11 12]]\n",
      "\n",
      " [[ 7  9]\n",
      "  [ 6 10]\n",
      "  [12  8]]]\n"
     ]
    }
   ],
   "source": [
    "# Let's try the different cases we mentioned above and see what happens\n",
    "x=np.random.randint(low=1,high=10,size=(2,3,2),dtype=\"int32\")\n",
    "y=np.random.randint(low=1,high=10,size=(3,2),dtype=\"int32\") # 3,2 => 1,3,2 => braodcast 2,3,2\n",
    "print(x)\n",
    "print(y)\n",
    "print(x+y)"
   ]
  },
  {
   "cell_type": "code",
   "execution_count": 17,
   "metadata": {},
   "outputs": [
    {
     "name": "stdout",
     "output_type": "stream",
     "text": [
      "(2, 3, 2)\n",
      "3\n",
      "[[[14  6]\n",
      "  [14  7]\n",
      "  [13 13]]\n",
      "\n",
      " [[ 7 14]\n",
      "  [12 12]\n",
      "  [ 8  9]]]\n",
      "[[[14  6]\n",
      "  [14  7]\n",
      "  [13 13]]\n",
      "\n",
      " [[ 7 14]\n",
      "  [12 12]\n",
      "  [ 8  9]]]\n"
     ]
    }
   ],
   "source": [
    "# Let's try the different cases we mentioned above and see what happens\n",
    "x=np.random.randint(low=1,high=10,size=(2,3,2),dtype=\"int32\")\n",
    "print(x.shape)\n",
    "print(x.ndim)\n",
    "y=np.array([5]) #y.shape = (1,) != x.shape => (1,1,1) => (2,3,2)\n",
    "\n",
    "z = np.ones((2,3,2), dtype=np.int32)*5\n",
    "#print(x)\n",
    "#print(y)\n",
    "print(x+y)\n",
    "print(x+z)"
   ]
  },
  {
   "cell_type": "markdown",
   "metadata": {},
   "source": [
    "### Manipulating shape"
   ]
  },
  {
   "cell_type": "markdown",
   "metadata": {},
   "source": [
    "* expand_dims, squeeze, flatten,  reshape"
   ]
  },
  {
   "cell_type": "code",
   "execution_count": 233,
   "metadata": {
    "ExecuteTime": {
     "end_time": "2020-05-24T12:39:24.548157Z",
     "start_time": "2020-05-24T12:39:24.544471Z"
    }
   },
   "outputs": [
    {
     "name": "stdout",
     "output_type": "stream",
     "text": [
      "[[0.13515076 0.62211961 0.4202402  0.63787993 0.92610762]\n",
      " [0.34536589 0.42206474 0.90750312 0.04698229 0.70801067]\n",
      " [0.27280579 0.96508233 0.17616529 0.10812028 0.69226975]\n",
      " [0.29704434 0.11295846 0.12160439 0.7224152  0.96982305]\n",
      " [0.08403466 0.57883786 0.21644387 0.99771301 0.6451038 ]]\n"
     ]
    }
   ],
   "source": [
    "x= np.random.random((5,5))\n",
    "print(x)"
   ]
  },
  {
   "cell_type": "code",
   "execution_count": 234,
   "metadata": {
    "ExecuteTime": {
     "end_time": "2020-05-24T12:39:24.554464Z",
     "start_time": "2020-05-24T12:39:24.550099Z"
    }
   },
   "outputs": [
    {
     "name": "stdout",
     "output_type": "stream",
     "text": [
      "[0.13515076 0.62211961 0.4202402  0.63787993 0.92610762 0.34536589\n",
      " 0.42206474 0.90750312 0.04698229 0.70801067 0.27280579 0.96508233\n",
      " 0.17616529 0.10812028 0.69226975 0.29704434 0.11295846 0.12160439\n",
      " 0.7224152  0.96982305 0.08403466 0.57883786 0.21644387 0.99771301\n",
      " 0.6451038 ]\n",
      "(25,)\n"
     ]
    }
   ],
   "source": [
    "# flatten()\n",
    "y = x.flatten()\n",
    "print(x.flatten())\n",
    "print(y.shape)"
   ]
  },
  {
   "cell_type": "code",
   "execution_count": 236,
   "metadata": {},
   "outputs": [
    {
     "name": "stdout",
     "output_type": "stream",
     "text": [
      "(2, 5)\n",
      "(1, 2, 5)\n"
     ]
    }
   ],
   "source": [
    "x = np.array(range(0,10)).reshape(2,5)\n",
    "print(x.shape)\n",
    "y = np.expand_dims(x, axis = 0)\n",
    "print(y.shape)"
   ]
  },
  {
   "cell_type": "code",
   "execution_count": 237,
   "metadata": {
    "ExecuteTime": {
     "end_time": "2020-05-24T12:39:24.561770Z",
     "start_time": "2020-05-24T12:39:24.556695Z"
    }
   },
   "outputs": [
    {
     "name": "stdout",
     "output_type": "stream",
     "text": [
      "(1, 2, 5)\n",
      "(2, 1, 5)\n",
      "(2, 5, 1)\n",
      "(2, 5, 1)\n"
     ]
    }
   ],
   "source": [
    "# expand_dims(a,axis)\n",
    "# add a singleton dimension\n",
    "x2=np.expand_dims(x,axis=0)\n",
    "print(x2.shape)\n",
    "x2=np.expand_dims(x,axis=1)\n",
    "print(x2.shape)\n",
    "x2=np.expand_dims(x,axis=2)\n",
    "print(x2.shape)\n",
    "x2=np.expand_dims(x,axis=-1)\n",
    "print(x2.shape)"
   ]
  },
  {
   "cell_type": "code",
   "execution_count": 72,
   "metadata": {
    "ExecuteTime": {
     "end_time": "2020-05-24T12:39:24.567413Z",
     "start_time": "2020-05-24T12:39:24.563190Z"
    }
   },
   "outputs": [
    {
     "name": "stdout",
     "output_type": "stream",
     "text": [
      "[[[0]\n",
      "  [1]\n",
      "  [2]\n",
      "  [3]\n",
      "  [4]]\n",
      "\n",
      " [[5]\n",
      "  [6]\n",
      "  [7]\n",
      "  [8]\n",
      "  [9]]]\n",
      "[[0 1 2 3 4]\n",
      " [5 6 7 8 9]]\n"
     ]
    }
   ],
   "source": [
    "# squeeze(a,axis=1 or (1,2) or None)\n",
    "# remove (some/all) singleton dimension\n",
    "print(x2)\n",
    "print(x2.squeeze())"
   ]
  },
  {
   "cell_type": "code",
   "execution_count": 240,
   "metadata": {},
   "outputs": [
    {
     "name": "stdout",
     "output_type": "stream",
     "text": [
      "(10, 20, 5)\n",
      "(5, 10, 20)\n"
     ]
    }
   ],
   "source": [
    "a = np.arange(1000).reshape(10,20,5)\n",
    "print(a.shape)\n",
    "\n",
    "b = np.moveaxis(a, [0 ,1, 2], [1,2, 0])\n",
    "print(b.shape)"
   ]
  },
  {
   "cell_type": "code",
   "execution_count": 24,
   "metadata": {
    "ExecuteTime": {
     "end_time": "2020-05-24T12:39:24.575371Z",
     "start_time": "2020-05-24T12:39:24.569019Z"
    }
   },
   "outputs": [
    {
     "name": "stdout",
     "output_type": "stream",
     "text": [
      "(5, 5, 1)\n",
      "(1, 5, 5)\n",
      "[[0.65628936 0.53580925 0.61111055 0.55807366 0.17518485]\n",
      " [0.89396368 0.51182689 0.48569536 0.08317149 0.80857819]\n",
      " [0.23172367 0.51990505 0.64523944 0.56416134 0.3608993 ]\n",
      " [0.60397349 0.30386437 0.22384056 0.23004792 0.7280163 ]\n",
      " [0.29966579 0.76987699 0.62173972 0.70876911 0.66961209]] (5, 5)\n",
      "[[0.65628936 0.89396368 0.23172367 0.60397349 0.29966579]\n",
      " [0.53580925 0.51182689 0.51990505 0.30386437 0.76987699]\n",
      " [0.61111055 0.48569536 0.64523944 0.22384056 0.62173972]\n",
      " [0.55807366 0.08317149 0.56416134 0.23004792 0.70876911]\n",
      " [0.17518485 0.80857819 0.3608993  0.7280163  0.66961209]] (5, 5)\n"
     ]
    }
   ],
   "source": [
    "# moveaxis(a,    [0,1,2],      [1,2,0])\n",
    "# 0 ->1 , 1 -> 2 , 2 ->0  (a cycle)\n",
    "\n",
    "\n",
    "print(x2.shape)\n",
    "x3=np.moveaxis(x2,[0,1,2],[1,2,0])\n",
    "print(x3.shape)\n",
    "\n",
    "print(x,x.shape)\n",
    "x3=np.moveaxis(x,[0,1],[1,0])\n",
    "print(x3,x3.shape)"
   ]
  },
  {
   "cell_type": "code",
   "execution_count": 38,
   "metadata": {
    "ExecuteTime": {
     "end_time": "2020-05-24T12:39:24.581943Z",
     "start_time": "2020-05-24T12:39:24.577248Z"
    }
   },
   "outputs": [
    {
     "name": "stdout",
     "output_type": "stream",
     "text": [
      "[ 1  2  3  4  5  6  7  8  9 10 11 12 13 14 15 16 17 18 19 20 21 22 23 24]\n",
      "[[ 1  2  3  4  5  6]\n",
      " [ 7  8  9 10 11 12]\n",
      " [13 14 15 16 17 18]\n",
      " [19 20 21 22 23 24]]\n",
      "[[ 1  2  3  4]\n",
      " [ 5  6  7  8]\n",
      " [ 9 10 11 12]\n",
      " [13 14 15 16]\n",
      " [17 18 19 20]\n",
      " [21 22 23 24]]\n",
      "[[[ 1  2  3  4]\n",
      "  [ 5  6  7  8]\n",
      "  [ 9 10 11 12]]\n",
      "\n",
      " [[13 14 15 16]\n",
      "  [17 18 19 20]\n",
      "  [21 22 23 24]]]\n"
     ]
    }
   ],
   "source": [
    "# reshape \n",
    "# note : this method conceptually first flattens the array\n",
    "# and then fills it into the new array in row first order\n",
    "# while reshape can do the work of flatten, squeeze and expand_dims, \n",
    "# reshape CANNOT be used to moveaxis - even though \n",
    "# trying will not give an error - don't fall into this trap!\n",
    "\n",
    "a=np.arange(1,25,1)\n",
    "print(a)\n",
    "print(a.reshape(4,6))\n",
    "print(a.reshape(6,4))\n",
    "print(a.reshape(2,3,4))"
   ]
  },
  {
   "cell_type": "markdown",
   "metadata": {},
   "source": [
    "### Further Reading"
   ]
  },
  {
   "cell_type": "markdown",
   "metadata": {},
   "source": [
    "* np.vstack,np.hstack,np.tile\n",
    "* integer indexing and boolean indexing\n",
    "* cumsum, cumprod, \n",
    "* serializing arrays : np.save"
   ]
  }
 ],
 "metadata": {
  "hide_input": false,
  "kernelspec": {
   "display_name": "Python 3",
   "language": "python",
   "name": "python3"
  },
  "language_info": {
   "codemirror_mode": {
    "name": "ipython",
    "version": 3
   },
   "file_extension": ".py",
   "mimetype": "text/x-python",
   "name": "python",
   "nbconvert_exporter": "python",
   "pygments_lexer": "ipython3",
   "version": "3.8.3"
  },
  "toc": {
   "base_numbering": 1,
   "nav_menu": {},
   "number_sections": true,
   "sideBar": true,
   "skip_h1_title": false,
   "title_cell": "Table of Contents",
   "title_sidebar": "Contents",
   "toc_cell": false,
   "toc_position": {},
   "toc_section_display": true,
   "toc_window_display": false
  }
 },
 "nbformat": 4,
 "nbformat_minor": 2
}
