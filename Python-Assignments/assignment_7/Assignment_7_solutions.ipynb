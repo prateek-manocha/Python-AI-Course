{
 "cells": [
  {
   "cell_type": "code",
   "execution_count": 1,
   "metadata": {},
   "outputs": [],
   "source": [
    "import pandas as pd\n",
    "import numpy as np"
   ]
  },
  {
   "cell_type": "code",
   "execution_count": 2,
   "metadata": {},
   "outputs": [],
   "source": [
    "def parse_cardata():\n",
    "    cardata = pd.read_csv('cardata.csv')\n",
    "    return cardata"
   ]
  },
  {
   "cell_type": "code",
   "execution_count": 3,
   "metadata": {},
   "outputs": [
    {
     "data": {
      "text/html": [
       "<div>\n",
       "<style scoped>\n",
       "    .dataframe tbody tr th:only-of-type {\n",
       "        vertical-align: middle;\n",
       "    }\n",
       "\n",
       "    .dataframe tbody tr th {\n",
       "        vertical-align: top;\n",
       "    }\n",
       "\n",
       "    .dataframe thead th {\n",
       "        text-align: right;\n",
       "    }\n",
       "</style>\n",
       "<table border=\"1\" class=\"dataframe\">\n",
       "  <thead>\n",
       "    <tr style=\"text-align: right;\">\n",
       "      <th></th>\n",
       "      <th>first_name</th>\n",
       "      <th>last_name</th>\n",
       "      <th>age</th>\n",
       "      <th>company</th>\n",
       "      <th>gender</th>\n",
       "      <th>car</th>\n",
       "      <th>car_purchase_data</th>\n",
       "    </tr>\n",
       "  </thead>\n",
       "  <tbody>\n",
       "    <tr>\n",
       "      <th>0</th>\n",
       "      <td>Bank</td>\n",
       "      <td>Benz</td>\n",
       "      <td>67</td>\n",
       "      <td>Flipkart</td>\n",
       "      <td>Male</td>\n",
       "      <td>Creta</td>\n",
       "      <td>7/7/2016</td>\n",
       "    </tr>\n",
       "    <tr>\n",
       "      <th>1</th>\n",
       "      <td>Livvy</td>\n",
       "      <td>McCrostie</td>\n",
       "      <td>53</td>\n",
       "      <td>Flipkart</td>\n",
       "      <td>Female</td>\n",
       "      <td>Creta</td>\n",
       "      <td>4/29/2019</td>\n",
       "    </tr>\n",
       "    <tr>\n",
       "      <th>2</th>\n",
       "      <td>Loydie</td>\n",
       "      <td>Charlet</td>\n",
       "      <td>61</td>\n",
       "      <td>Flipkart</td>\n",
       "      <td>Male</td>\n",
       "      <td>Swift Dzire</td>\n",
       "      <td>7/6/2018</td>\n",
       "    </tr>\n",
       "    <tr>\n",
       "      <th>3</th>\n",
       "      <td>Letti</td>\n",
       "      <td>De Clairmont</td>\n",
       "      <td>60</td>\n",
       "      <td>Microsoft</td>\n",
       "      <td>Female</td>\n",
       "      <td>i20</td>\n",
       "      <td>9/30/2017</td>\n",
       "    </tr>\n",
       "    <tr>\n",
       "      <th>4</th>\n",
       "      <td>Bili</td>\n",
       "      <td>Mebes</td>\n",
       "      <td>45</td>\n",
       "      <td>Flipkart</td>\n",
       "      <td>Female</td>\n",
       "      <td>Creta</td>\n",
       "      <td>6/7/2017</td>\n",
       "    </tr>\n",
       "  </tbody>\n",
       "</table>\n",
       "</div>"
      ],
      "text/plain": [
       "  first_name     last_name  age    company  gender          car  \\\n",
       "0       Bank          Benz   67   Flipkart    Male        Creta   \n",
       "1      Livvy     McCrostie   53   Flipkart  Female        Creta   \n",
       "2     Loydie       Charlet   61   Flipkart    Male  Swift Dzire   \n",
       "3      Letti  De Clairmont   60  Microsoft  Female          i20   \n",
       "4       Bili         Mebes   45   Flipkart  Female        Creta   \n",
       "\n",
       "  car_purchase_data  \n",
       "0          7/7/2016  \n",
       "1         4/29/2019  \n",
       "2          7/6/2018  \n",
       "3         9/30/2017  \n",
       "4          6/7/2017  "
      ]
     },
     "metadata": {},
     "output_type": "display_data"
    },
    {
     "name": "stdout",
     "output_type": "stream",
     "text": [
      "<class 'pandas.core.frame.DataFrame'>\n"
     ]
    }
   ],
   "source": [
    "cardata = parse_cardata()\n",
    "display(cardata.head())\n",
    "print(type(cardata))"
   ]
  },
  {
   "cell_type": "code",
   "execution_count": 4,
   "metadata": {},
   "outputs": [
    {
     "data": {
      "text/plain": [
       "Index(['first_name', 'last_name', 'age', 'company', 'gender', 'car',\n",
       "       'car_purchase_data'],\n",
       "      dtype='object')"
      ]
     },
     "execution_count": 4,
     "metadata": {},
     "output_type": "execute_result"
    }
   ],
   "source": [
    "cardata.columns\n"
   ]
  },
  {
   "cell_type": "code",
   "execution_count": 5,
   "metadata": {},
   "outputs": [
    {
     "name": "stdout",
     "output_type": "stream",
     "text": [
      "<class 'pandas.core.frame.DataFrame'>\n",
      "RangeIndex: 200 entries, 0 to 199\n",
      "Data columns (total 7 columns):\n",
      " #   Column             Non-Null Count  Dtype \n",
      "---  ------             --------------  ----- \n",
      " 0   first_name         200 non-null    object\n",
      " 1   last_name          200 non-null    object\n",
      " 2   age                200 non-null    int64 \n",
      " 3   company            200 non-null    object\n",
      " 4   gender             200 non-null    object\n",
      " 5   car                200 non-null    object\n",
      " 6   car_purchase_data  200 non-null    object\n",
      "dtypes: int64(1), object(6)\n",
      "memory usage: 11.1+ KB\n"
     ]
    }
   ],
   "source": [
    "cardata.info()"
   ]
  },
  {
   "cell_type": "code",
   "execution_count": 6,
   "metadata": {},
   "outputs": [
    {
     "data": {
      "text/html": [
       "<div>\n",
       "<style scoped>\n",
       "    .dataframe tbody tr th:only-of-type {\n",
       "        vertical-align: middle;\n",
       "    }\n",
       "\n",
       "    .dataframe tbody tr th {\n",
       "        vertical-align: top;\n",
       "    }\n",
       "\n",
       "    .dataframe thead th {\n",
       "        text-align: right;\n",
       "    }\n",
       "</style>\n",
       "<table border=\"1\" class=\"dataframe\">\n",
       "  <thead>\n",
       "    <tr style=\"text-align: right;\">\n",
       "      <th></th>\n",
       "      <th>age</th>\n",
       "    </tr>\n",
       "  </thead>\n",
       "  <tbody>\n",
       "    <tr>\n",
       "      <th>count</th>\n",
       "      <td>200.000000</td>\n",
       "    </tr>\n",
       "    <tr>\n",
       "      <th>mean</th>\n",
       "      <td>53.430000</td>\n",
       "    </tr>\n",
       "    <tr>\n",
       "      <th>std</th>\n",
       "      <td>10.373192</td>\n",
       "    </tr>\n",
       "    <tr>\n",
       "      <th>min</th>\n",
       "      <td>35.000000</td>\n",
       "    </tr>\n",
       "    <tr>\n",
       "      <th>25%</th>\n",
       "      <td>45.000000</td>\n",
       "    </tr>\n",
       "    <tr>\n",
       "      <th>50%</th>\n",
       "      <td>54.500000</td>\n",
       "    </tr>\n",
       "    <tr>\n",
       "      <th>75%</th>\n",
       "      <td>62.000000</td>\n",
       "    </tr>\n",
       "    <tr>\n",
       "      <th>max</th>\n",
       "      <td>70.000000</td>\n",
       "    </tr>\n",
       "  </tbody>\n",
       "</table>\n",
       "</div>"
      ],
      "text/plain": [
       "              age\n",
       "count  200.000000\n",
       "mean    53.430000\n",
       "std     10.373192\n",
       "min     35.000000\n",
       "25%     45.000000\n",
       "50%     54.500000\n",
       "75%     62.000000\n",
       "max     70.000000"
      ]
     },
     "execution_count": 6,
     "metadata": {},
     "output_type": "execute_result"
    }
   ],
   "source": [
    "cardata.describe()"
   ]
  },
  {
   "cell_type": "code",
   "execution_count": 7,
   "metadata": {},
   "outputs": [
    {
     "data": {
      "text/plain": [
       "0    67\n",
       "1    53\n",
       "2    61\n",
       "3    60\n",
       "4    45\n",
       "Name: age, dtype: int64"
      ]
     },
     "execution_count": 7,
     "metadata": {},
     "output_type": "execute_result"
    }
   ],
   "source": [
    "cardata['age'].head()"
   ]
  },
  {
   "cell_type": "code",
   "execution_count": 8,
   "metadata": {},
   "outputs": [
    {
     "name": "stdout",
     "output_type": "stream",
     "text": [
      "35\n",
      "70\n"
     ]
    }
   ],
   "source": [
    "print(cardata['age'].min())\n",
    "print(cardata['age'].max())"
   ]
  },
  {
   "cell_type": "code",
   "execution_count": 9,
   "metadata": {},
   "outputs": [
    {
     "data": {
      "text/plain": [
       "['35-40', '40-45', '45-50', '50-55', '55-60', '60-65', '65-70']"
      ]
     },
     "execution_count": 9,
     "metadata": {},
     "output_type": "execute_result"
    }
   ],
   "source": [
    "bucket_size = 5\n",
    "age_keys = []\n",
    "for i in range(cardata['age'].min(), cardata['age'].max(), bucket_size):\n",
    "    age_keys.append(str(i)+'-'+str(i+bucket_size))\n",
    "age_keys"
   ]
  },
  {
   "cell_type": "code",
   "execution_count": 10,
   "metadata": {},
   "outputs": [
    {
     "data": {
      "text/plain": [
       "['Creta', 'Swift Dzire', 'i20', 'Alto 800', 'Baleno']"
      ]
     },
     "execution_count": 10,
     "metadata": {},
     "output_type": "execute_result"
    }
   ],
   "source": [
    "cars_keys = []\n",
    "for car in cardata['car']:\n",
    "    if car not in cars_keys:\n",
    "        cars_keys.append(car)\n",
    "cars_keys"
   ]
  },
  {
   "cell_type": "code",
   "execution_count": 11,
   "metadata": {},
   "outputs": [
    {
     "data": {
      "text/html": [
       "<div>\n",
       "<style scoped>\n",
       "    .dataframe tbody tr th:only-of-type {\n",
       "        vertical-align: middle;\n",
       "    }\n",
       "\n",
       "    .dataframe tbody tr th {\n",
       "        vertical-align: top;\n",
       "    }\n",
       "\n",
       "    .dataframe thead th {\n",
       "        text-align: right;\n",
       "    }\n",
       "</style>\n",
       "<table border=\"1\" class=\"dataframe\">\n",
       "  <thead>\n",
       "    <tr style=\"text-align: right;\">\n",
       "      <th></th>\n",
       "      <th>first_name</th>\n",
       "      <th>last_name</th>\n",
       "      <th>age</th>\n",
       "      <th>company</th>\n",
       "      <th>gender</th>\n",
       "      <th>car</th>\n",
       "      <th>car_purchase_data</th>\n",
       "    </tr>\n",
       "  </thead>\n",
       "  <tbody>\n",
       "    <tr>\n",
       "      <th>181</th>\n",
       "      <td>Rocky</td>\n",
       "      <td>Tallet</td>\n",
       "      <td>69</td>\n",
       "      <td>Google</td>\n",
       "      <td>Male</td>\n",
       "      <td>i20</td>\n",
       "      <td>10/24/2017</td>\n",
       "    </tr>\n",
       "    <tr>\n",
       "      <th>192</th>\n",
       "      <td>Jamil</td>\n",
       "      <td>Blenkensop</td>\n",
       "      <td>45</td>\n",
       "      <td>Google</td>\n",
       "      <td>Male</td>\n",
       "      <td>Swift Dzire</td>\n",
       "      <td>1/21/2019</td>\n",
       "    </tr>\n",
       "    <tr>\n",
       "      <th>197</th>\n",
       "      <td>Bryn</td>\n",
       "      <td>Rannells</td>\n",
       "      <td>53</td>\n",
       "      <td>Zomato</td>\n",
       "      <td>Male</td>\n",
       "      <td>Creta</td>\n",
       "      <td>1/17/2019</td>\n",
       "    </tr>\n",
       "    <tr>\n",
       "      <th>198</th>\n",
       "      <td>Nicolette</td>\n",
       "      <td>Marcome</td>\n",
       "      <td>57</td>\n",
       "      <td>Flipkart</td>\n",
       "      <td>Female</td>\n",
       "      <td>Baleno</td>\n",
       "      <td>3/29/2019</td>\n",
       "    </tr>\n",
       "    <tr>\n",
       "      <th>199</th>\n",
       "      <td>Gilda</td>\n",
       "      <td>Clausner</td>\n",
       "      <td>38</td>\n",
       "      <td>Zomato</td>\n",
       "      <td>Female</td>\n",
       "      <td>Alto 800</td>\n",
       "      <td>8/19/2018</td>\n",
       "    </tr>\n",
       "  </tbody>\n",
       "</table>\n",
       "</div>"
      ],
      "text/plain": [
       "    first_name   last_name  age   company  gender          car  \\\n",
       "181      Rocky      Tallet   69    Google    Male          i20   \n",
       "192      Jamil  Blenkensop   45    Google    Male  Swift Dzire   \n",
       "197       Bryn    Rannells   53    Zomato    Male        Creta   \n",
       "198  Nicolette     Marcome   57  Flipkart  Female       Baleno   \n",
       "199      Gilda    Clausner   38    Zomato  Female     Alto 800   \n",
       "\n",
       "    car_purchase_data  \n",
       "181        10/24/2017  \n",
       "192         1/21/2019  \n",
       "197         1/17/2019  \n",
       "198         3/29/2019  \n",
       "199         8/19/2018  "
      ]
     },
     "execution_count": 11,
     "metadata": {},
     "output_type": "execute_result"
    }
   ],
   "source": [
    "cardata.drop_duplicates(subset=['car'], keep='last')"
   ]
  },
  {
   "cell_type": "code",
   "execution_count": 12,
   "metadata": {},
   "outputs": [
    {
     "data": {
      "text/plain": [
       "array(['Creta', 'Swift Dzire', 'i20', 'Alto 800', 'Baleno'], dtype=object)"
      ]
     },
     "execution_count": 12,
     "metadata": {},
     "output_type": "execute_result"
    }
   ],
   "source": [
    "cardata['car'].unique()"
   ]
  },
  {
   "cell_type": "code",
   "execution_count": 13,
   "metadata": {},
   "outputs": [
    {
     "name": "stdout",
     "output_type": "stream",
     "text": [
      "['Creta', 'Swift Dzire', 'i20', 'Alto 800', 'Baleno']\n",
      "['35-40', '40-45', '45-50', '50-55', '55-60', '60-65', '65-70']\n"
     ]
    }
   ],
   "source": [
    "print(cars_keys)\n",
    "print(age_keys)"
   ]
  },
  {
   "cell_type": "code",
   "execution_count": 14,
   "metadata": {},
   "outputs": [],
   "source": [
    "def cars_vs_age(cardata,bucketsize=5):\n",
    "    age_keys = []\n",
    "    for i in range(cardata['age'].min(), cardata['age'].max(), bucketsize):\n",
    "        age_keys.append(str(i)+'-'+str(i+bucketsize))\n",
    "    cars_keys = []\n",
    "    for car in cardata['car']:\n",
    "        if car not in cars_keys:\n",
    "            cars_keys.append(car)\n",
    "    histogram ={}\n",
    "    for car in cars_keys:\n",
    "        if car not in histogram:\n",
    "            histogram[car] = {}\n",
    "        for ag1 in age_keys:\n",
    "            histogram[car][ag1] = 0\n",
    "            ag = ag1.split('-')\n",
    "            min_age = int(ag[0])\n",
    "            max_age = int(ag[1])\n",
    "            histogram[car][ag1] = int(np.sum((cardata['age']>= min_age) & (cardata['age']<max_age) & (cardata['car'] == car)))\n",
    "            #print(int(np.sum((cardata['age']>= min_age) & (cardata['age']<max_age) & (cardata['car'] == car))))\n",
    "            #print(type(np.sum((cardata['age']>= min_age) & (cardata['age']<max_age) & (cardata['car'] == car))))\n",
    "                \n",
    "    return histogram"
   ]
  },
  {
   "cell_type": "code",
   "execution_count": 15,
   "metadata": {},
   "outputs": [
    {
     "name": "stdout",
     "output_type": "stream",
     "text": [
      "{'Creta': {'35-40': 6, '40-45': 2, '45-50': 7, '50-55': 4, '55-60': 4, '60-65': 3, '65-70': 8}, 'Swift Dzire': {'35-40': 5, '40-45': 6, '45-50': 8, '50-55': 7, '55-60': 7, '60-65': 11, '65-70': 6}, 'i20': {'35-40': 5, '40-45': 6, '45-50': 4, '50-55': 5, '55-60': 6, '60-65': 3, '65-70': 8}, 'Alto 800': {'35-40': 4, '40-45': 4, '45-50': 5, '50-55': 3, '55-60': 7, '60-65': 6, '65-70': 6}, 'Baleno': {'35-40': 5, '40-45': 4, '45-50': 6, '50-55': 4, '55-60': 10, '60-65': 6, '65-70': 5}}\n"
     ]
    }
   ],
   "source": [
    "histogram = cars_vs_age(cardata,5)\n",
    "print(histogram)"
   ]
  },
  {
   "cell_type": "code",
   "execution_count": 16,
   "metadata": {},
   "outputs": [
    {
     "data": {
      "text/plain": [
       "<BarContainer object of 7 artists>"
      ]
     },
     "execution_count": 16,
     "metadata": {},
     "output_type": "execute_result"
    },
    {
     "data": {
      "image/png": "[encoded data removed]",
      "text/plain": [
       "<Figure size 432x288 with 1 Axes>"
      ]
     },
     "metadata": {
      "needs_background": "light"
     },
     "output_type": "display_data"
    }
   ],
   "source": [
    "import matplotlib.pyplot as plt\n",
    "plt.bar(histogram['i20'].keys(), histogram['i20'].values())"
   ]
  },
  {
   "cell_type": "code",
   "execution_count": 17,
   "metadata": {},
   "outputs": [],
   "source": [
    "def age_vs_cars(cardata,bucketsize=5):\n",
    "    age_keys = []\n",
    "    for i in range(cardata['age'].min(), cardata['age'].max(), bucketsize):\n",
    "        age_keys.append(str(i)+'-'+str(i+bucketsize))\n",
    "    cars_keys = []\n",
    "    for car in cardata['car']:\n",
    "        if car not in cars_keys:\n",
    "            cars_keys.append(car)\n",
    "    histogram ={}\n",
    "    for ag1 in age_keys:\n",
    "        if ag1 not in histogram:\n",
    "            histogram[ag1] = {}\n",
    "        for car in cars_keys:\n",
    "            histogram[ag1][car] = 0\n",
    "            ag = ag1.split('-')\n",
    "            min_age = int(ag[0])\n",
    "            max_age = int(ag[1])\n",
    "            histogram[ag1][car] = int(np.sum((cardata['age']>= min_age) & (cardata['age']<max_age) & (cardata['car'] == car)))\n",
    "            #print(int(np.sum((cardata['age']>= min_age) & (cardata['age']<max_age) & (cardata['car'] == car))))\n",
    "            #print(type(np.sum((cardata['age']>= min_age) & (cardata['age']<max_age) & (cardata['car'] == car))))\n",
    "    print(histogram)            \n",
    "    return histogram"
   ]
  },
  {
   "cell_type": "code",
   "execution_count": 18,
   "metadata": {},
   "outputs": [
    {
     "ename": "SyntaxError",
     "evalue": "invalid syntax (<ipython-input-18-5fd4ec6ef899>, line 1)",
     "output_type": "error",
     "traceback": [
      "\u001b[0;36m  File \u001b[0;32m\"<ipython-input-18-5fd4ec6ef899>\"\u001b[0;36m, line \u001b[0;32m1\u001b[0m\n\u001b[0;31m    hist = age_vs_cars(cardata,5    cars_keys = []\u001b[0m\n\u001b[0m                                    ^\u001b[0m\n\u001b[0;31mSyntaxError\u001b[0m\u001b[0;31m:\u001b[0m invalid syntax\n"
     ]
    }
   ],
   "source": [
    "hist = age_vs_cars(cardata,5    cars_keys = []\n",
    "    for car in cardata['car']:\n",
    "        if car not in cars_keys:\n",
    "            cars_keys.append(car))"
   ]
  },
  {
   "cell_type": "code",
   "execution_count": null,
   "metadata": {},
   "outputs": [],
   "source": [
    "print(hist)\n",
    "print(histogram)"
   ]
  },
  {
   "cell_type": "code",
   "execution_count": null,
   "metadata": {},
   "outputs": [],
   "source": [
    "bucketsize=5\n",
    "age_keys = []\n",
    "for i in range(cardata['age'].min(), cardata['age'].max(), bucketsize):\n",
    "    age_keys.append(str(i)+'-'+str(i+bucketsize))\n",
    "\n",
    "cars_keys = []\n",
    "for car in cardata['car']:\n",
    "    if car not in cars_keys:\n",
    "        cars_keys.append(car)\n",
    "new_hist = {}\n",
    "for i in age_keys:\n",
    "    new_hist[i] = {}\n",
    "    for car in cars_keys:\n",
    "        new_hist[i][car] = histogram[car][i]\n",
    "print(new_hist)"
   ]
  },
  {
   "cell_type": "code",
   "execution_count": 19,
   "metadata": {},
   "outputs": [
    {
     "ename": "NameError",
     "evalue": "name 'hist' is not defined",
     "output_type": "error",
     "traceback": [
      "\u001b[0;31m---------------------------------------------------------------------------\u001b[0m",
      "\u001b[0;31mNameError\u001b[0m                                 Traceback (most recent call last)",
      "\u001b[0;32m<ipython-input-19-1adce7ddd3ff>\u001b[0m in \u001b[0;36m<module>\u001b[0;34m\u001b[0m\n\u001b[0;32m----> 1\u001b[0;31m \u001b[0mprint\u001b[0m\u001b[0;34m(\u001b[0m\u001b[0mhist\u001b[0m\u001b[0;34m)\u001b[0m\u001b[0;34m\u001b[0m\u001b[0;34m\u001b[0m\u001b[0m\n\u001b[0m",
      "\u001b[0;31mNameError\u001b[0m: name 'hist' is not defined"
     ]
    }
   ],
   "source": [
    "print(hist)"
   ]
  },
  {
   "cell_type": "code",
   "execution_count": 20,
   "metadata": {},
   "outputs": [
    {
     "name": "stdout",
     "output_type": "stream",
     "text": [
      "{'Flipkart': [('i20', 14), ('Alto 800', 13), ('Swift Dzire', 12), ('Baleno', 9), ('Creta', 8)], 'Microsoft': [('Swift Dzire', 17), ('Baleno', 14), ('i20', 13), ('Creta', 7), ('Alto 800', 6)], 'Zomato': [('Baleno', 11), ('Creta', 10), ('Alto 800', 9), ('Swift Dzire', 7), ('i20', 6)], 'Google': [('Swift Dzire', 14), ('Creta', 9), ('Alto 800', 9), ('i20', 6), ('Baleno', 6)]}\n"
     ]
    }
   ],
   "source": [
    "def company_vs_cars(cardata):\n",
    "    company_vs_cars_map ={}\n",
    "    car_names = []\n",
    "    car_n = []\n",
    "    uniq_comp= cardata['company'].unique()\n",
    "    for company in uniq_comp:\n",
    "        company_vs_cars_map[company] = []\n",
    "        uniq_cars = cardata['car'].unique()\n",
    "        for car in uniq_cars:\n",
    "            car_no = int(np.sum((cardata['car'] == car) & (cardata['company'] == company)))\n",
    "            company_vs_cars_map[company].append((car, car_no))\n",
    "        company_vs_cars_map[company].sort(key = lambda x: x[1], reverse=True)\n",
    "            \n",
    "    print(company_vs_cars_map)\n",
    "    return company_vs_cars_map\n",
    "company_vs_cars_map = company_vs_cars(cardata)"
   ]
  },
  {
   "cell_type": "code",
   "execution_count": 21,
   "metadata": {},
   "outputs": [
    {
     "name": "stdout",
     "output_type": "stream",
     "text": [
      "('i20',)\n",
      "('Swift Dzire',)\n",
      "('Baleno',)\n",
      "('Swift Dzire',)\n"
     ]
    }
   ],
   "source": [
    "for company in cardata['company'].unique():\n",
    "    print(company_vs_cars_map[company][0][0:1])"
   ]
  },
  {
   "cell_type": "code",
   "execution_count": 22,
   "metadata": {},
   "outputs": [
    {
     "name": "stdout",
     "output_type": "stream",
     "text": [
      "<generator object <genexpr> at 0x7fcc9dd7deb0>\n",
      "<generator object <genexpr> at 0x7fcc9dd7deb0>\n",
      "<generator object <genexpr> at 0x7fcc9dd7deb0>\n",
      "<generator object <genexpr> at 0x7fcc9dd7deb0>\n",
      "<generator object <genexpr> at 0x7fcc9dd7deb0>\n",
      "<generator object <genexpr> at 0x7fcc9dd7deb0>\n",
      "<generator object <genexpr> at 0x7fcc9dd7deb0>\n",
      "<generator object <genexpr> at 0x7fcc9dd7deb0>\n",
      "<generator object <genexpr> at 0x7fcc9dd7deb0>\n",
      "<generator object <genexpr> at 0x7fcc9dd7deb0>\n",
      "<generator object <genexpr> at 0x7fcc9dd7deb0>\n",
      "<generator object <genexpr> at 0x7fcc9dd7deb0>\n",
      "<generator object <genexpr> at 0x7fcc9dd7deb0>\n",
      "<generator object <genexpr> at 0x7fcc9dd7deb0>\n",
      "<generator object <genexpr> at 0x7fcc9dd7deb0>\n",
      "<generator object <genexpr> at 0x7fcc9dd7deb0>\n",
      "<generator object <genexpr> at 0x7fcc9dd7deb0>\n",
      "<generator object <genexpr> at 0x7fcc9dd7deb0>\n",
      "<generator object <genexpr> at 0x7fcc9dd7deb0>\n",
      "<generator object <genexpr> at 0x7fcc9dd7deb0>\n",
      "{'Creta': 0, 'Swift Dzire': 0, 'i20': 0, 'Alto 800': 0, 'Baleno': 0}\n"
     ]
    }
   ],
   "source": [
    "car_points = {}\n",
    "for car in cardata['car'].unique():\n",
    "    car_points[car] = 0\n",
    "    for company in cardata['company'].unique():\n",
    "        print(company_vs_cars_map[company][i][0] for i in range(2))\n",
    "        #if car in company_vs_cars_map[company][0:2]:\n",
    "\n",
    "print(car_points)"
   ]
  },
  {
   "cell_type": "code",
   "execution_count": 23,
   "metadata": {},
   "outputs": [
    {
     "data": {
      "text/plain": [
       "{'Flipkart': [('i20', 14),\n",
       "  ('Alto 800', 13),\n",
       "  ('Swift Dzire', 12),\n",
       "  ('Baleno', 9),\n",
       "  ('Creta', 8)],\n",
       " 'Microsoft': [('Swift Dzire', 17),\n",
       "  ('Baleno', 14),\n",
       "  ('i20', 13),\n",
       "  ('Creta', 7),\n",
       "  ('Alto 800', 6)],\n",
       " 'Zomato': [('Baleno', 11),\n",
       "  ('Creta', 10),\n",
       "  ('Alto 800', 9),\n",
       "  ('Swift Dzire', 7),\n",
       "  ('i20', 6)],\n",
       " 'Google': [('Swift Dzire', 14),\n",
       "  ('Creta', 9),\n",
       "  ('Alto 800', 9),\n",
       "  ('i20', 6),\n",
       "  ('Baleno', 6)]}"
      ]
     },
     "execution_count": 23,
     "metadata": {},
     "output_type": "execute_result"
    }
   ],
   "source": [
    "company_vs_cars_map"
   ]
  },
  {
   "cell_type": "code",
   "execution_count": 27,
   "metadata": {},
   "outputs": [],
   "source": [
    "uniq_cars = cardata['car'].unique()\n",
    "uniq_comp = cardata['company'].unique()"
   ]
  },
  {
   "cell_type": "code",
   "execution_count": 32,
   "metadata": {},
   "outputs": [
    {
     "name": "stdout",
     "output_type": "stream",
     "text": [
      "i20\n",
      "Swift Dzire\n",
      "Baleno\n",
      "Swift Dzire\n",
      "i20\n",
      "Swift Dzire\n",
      "Baleno\n",
      "Swift Dzire\n",
      "i20\n",
      "Swift Dzire\n",
      "Baleno\n",
      "Swift Dzire\n",
      "i20\n",
      "Swift Dzire\n",
      "Baleno\n",
      "Swift Dzire\n",
      "i20\n",
      "Swift Dzire\n",
      "Baleno\n",
      "Swift Dzire\n"
     ]
    }
   ],
   "source": [
    "car_points = {}\n",
    "for car in uniq_cars:\n",
    "    car_points[car] = 0\n",
    "    for company in uniq_comp:\n",
    "        if car in company_vs_cars_map[company][0:1][0][0]:\n",
    "            car_points[car] +=1\n",
    "            \n",
    "    "
   ]
  },
  {
   "cell_type": "code",
   "execution_count": null,
   "metadata": {},
   "outputs": [],
   "source": []
  }
 ],
 "metadata": {
  "kernelspec": {
   "display_name": "Python 3",
   "language": "python",
   "name": "python3"
  },
  "language_info": {
   "codemirror_mode": {
    "name": "ipython",
    "version": 3
   },
   "file_extension": ".py",
   "mimetype": "text/x-python",
   "name": "python",
   "nbconvert_exporter": "python",
   "pygments_lexer": "ipython3",
   "version": "3.7.8"
  }
 },
 "nbformat": 4,
 "nbformat_minor": 4
}
