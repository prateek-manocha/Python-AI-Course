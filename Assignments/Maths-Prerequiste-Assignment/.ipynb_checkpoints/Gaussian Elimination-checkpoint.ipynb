{
 "cells": [
  {
   "cell_type": "markdown",
   "metadata": {},
   "source": [
    "# Row Echelon Form\n"
   ]
  },
  {
   "cell_type": "markdown",
   "metadata": {},
   "source": [
    "For a matrix to be considered as a RE (row echelon) form:\n",
    "* All the rows having 0 should be at the bottom\n",
    "* Leading entries of any row should be after (on right/in the next columns) the leading entry of the previous row"
   ]
  },
  {
   "cell_type": "markdown",
   "metadata": {},
   "source": [
    "1  5  5\n",
    "0  5  10\n",
    "0  8  1\n",
    "\n",
    "Not in RE form"
   ]
  },
  {
   "cell_type": "markdown",
   "metadata": {},
   "source": [
    "1  5  5\n",
    "0  5  10\n",
    "0  0  1"
   ]
  },
  {
   "cell_type": "markdown",
   "metadata": {},
   "source": [
    "1 4 5 9\n",
    "0 9 8 8\n",
    "0 0 0 1\n",
    "0 0 0 0"
   ]
  },
  {
   "cell_type": "markdown",
   "metadata": {},
   "source": [
    "# Reduced Row Echelon Form"
   ]
  },
  {
   "cell_type": "markdown",
   "metadata": {},
   "source": [
    "The same as Row Echelon form with the only diffrence that the matrix is a diagnol matrix."
   ]
  },
  {
   "cell_type": "code",
   "execution_count": 11,
   "metadata": {},
   "outputs": [],
   "source": [
    "import numpy as np\n",
    "A = np.random.randint(1,10,(3,3))*1.0\n",
    "b = np.random.randint(1, 10, (3,1))*1.0"
   ]
  },
  {
   "cell_type": "code",
   "execution_count": 12,
   "metadata": {},
   "outputs": [
    {
     "name": "stdout",
     "output_type": "stream",
     "text": [
      "[[4. 7. 7.]\n",
      " [4. 6. 6.]\n",
      " [3. 1. 9.]]\n",
      "[[5.]\n",
      " [1.]\n",
      " [6.]]\n"
     ]
    }
   ],
   "source": [
    "print(A)\n",
    "print(b)"
   ]
  },
  {
   "cell_type": "code",
   "execution_count": 13,
   "metadata": {},
   "outputs": [],
   "source": [
    "# Scale. Add. Swap. \n",
    "\n",
    "class EqSystem():\n",
    "    def __init__(self, coeff, result):\n",
    "        self.coeff = coeff\n",
    "        self.res = result\n",
    "        \n",
    "    def swap(self, i, j):\n",
    "        self.coeff[i], self.coeff[j] = self.coeff[j], self.coeff[i]\n",
    "        self.res[i], self.res[j] = self.res[j], self.res[i]\n",
    "        \n",
    "    def scale(self, row, scale):\n",
    "        self.coeff[row] *= scale\n",
    "        self.res[row] *= scale\n",
    "    \n",
    "    def add(self, row1, row2, scale):\n",
    "        self.coeff[row1] = self.coeff[row1] + scale*self.coeff[row2] \n",
    "        self.res[row1] = self.res[row1] + scale*self.res[row2]\n",
    "        \n",
    "    def stat(self):\n",
    "        print(self.coeff)\n",
    "        print(self.res)"
   ]
  },
  {
   "cell_type": "code",
   "execution_count": 19,
   "metadata": {},
   "outputs": [],
   "source": [
    "eq = EqSystem(A.copy(), b.copy())"
   ]
  },
  {
   "cell_type": "code",
   "execution_count": 20,
   "metadata": {},
   "outputs": [
    {
     "name": "stdout",
     "output_type": "stream",
     "text": [
      "[[4. 7. 7.]\n",
      " [4. 6. 6.]\n",
      " [3. 1. 9.]]\n",
      "[[5.]\n",
      " [1.]\n",
      " [6.]]\n"
     ]
    }
   ],
   "source": [
    "eq.stat()"
   ]
  },
  {
   "cell_type": "code",
   "execution_count": 21,
   "metadata": {},
   "outputs": [],
   "source": [
    "eq.add(1 , 0, -1)"
   ]
  },
  {
   "cell_type": "code",
   "execution_count": 22,
   "metadata": {},
   "outputs": [
    {
     "name": "stdout",
     "output_type": "stream",
     "text": [
      "[[ 4.  7.  7.]\n",
      " [ 0. -1. -1.]\n",
      " [ 3.  1.  9.]]\n",
      "[[ 5.]\n",
      " [-4.]\n",
      " [ 6.]]\n"
     ]
    }
   ],
   "source": [
    "eq.stat()"
   ]
  },
  {
   "cell_type": "code",
   "execution_count": 23,
   "metadata": {},
   "outputs": [],
   "source": [
    "eq.add(2, 0, -(3/4))"
   ]
  },
  {
   "cell_type": "code",
   "execution_count": 24,
   "metadata": {},
   "outputs": [
    {
     "name": "stdout",
     "output_type": "stream",
     "text": [
      "[[ 4.    7.    7.  ]\n",
      " [ 0.   -1.   -1.  ]\n",
      " [ 0.   -4.25  3.75]]\n",
      "[[ 5.  ]\n",
      " [-4.  ]\n",
      " [ 2.25]]\n"
     ]
    }
   ],
   "source": [
    "eq.stat()"
   ]
  },
  {
   "cell_type": "code",
   "execution_count": 25,
   "metadata": {},
   "outputs": [
    {
     "name": "stdout",
     "output_type": "stream",
     "text": [
      "[[ 4.    7.    7.  ]\n",
      " [-0.    1.    1.  ]\n",
      " [ 0.   -4.25  3.75]]\n",
      "[[5.  ]\n",
      " [4.  ]\n",
      " [2.25]]\n"
     ]
    }
   ],
   "source": [
    "eq.scale(1, -1)\n",
    "eq.stat()"
   ]
  },
  {
   "cell_type": "code",
   "execution_count": 26,
   "metadata": {},
   "outputs": [
    {
     "name": "stdout",
     "output_type": "stream",
     "text": [
      "[[ 4.  0.  0.]\n",
      " [-0.  1.  1.]\n",
      " [ 0.  0.  8.]]\n",
      "[[-23.  ]\n",
      " [  4.  ]\n",
      " [ 19.25]]\n"
     ]
    }
   ],
   "source": [
    "eq.add(0, 1, -7)\n",
    "eq.add(2, 1, 4.25)\n",
    "eq.stat()"
   ]
  },
  {
   "cell_type": "code",
   "execution_count": 27,
   "metadata": {},
   "outputs": [
    {
     "name": "stdout",
     "output_type": "stream",
     "text": [
      "[[ 4.  0.  0.]\n",
      " [-0.  1.  1.]\n",
      " [ 0.  0.  1.]]\n",
      "[[-23.     ]\n",
      " [  4.     ]\n",
      " [  2.40625]]\n"
     ]
    }
   ],
   "source": [
    "eq.scale(2, 1/8)\n",
    "eq.stat()"
   ]
  },
  {
   "cell_type": "code",
   "execution_count": 28,
   "metadata": {},
   "outputs": [],
   "source": [
    "eq.add(1, 2, -1)"
   ]
  },
  {
   "cell_type": "code",
   "execution_count": 29,
   "metadata": {},
   "outputs": [],
   "source": [
    "eq.scale(0, 1/4)"
   ]
  },
  {
   "cell_type": "code",
   "execution_count": 30,
   "metadata": {},
   "outputs": [
    {
     "name": "stdout",
     "output_type": "stream",
     "text": [
      "[[ 1.  0.  0.]\n",
      " [-0.  1.  0.]\n",
      " [ 0.  0.  1.]]\n",
      "[[-5.75   ]\n",
      " [ 1.59375]\n",
      " [ 2.40625]]\n"
     ]
    }
   ],
   "source": [
    "eq.stat()"
   ]
  },
  {
   "cell_type": "code",
   "execution_count": 31,
   "metadata": {},
   "outputs": [
    {
     "name": "stdout",
     "output_type": "stream",
     "text": [
      "[[4. 7. 7.]\n",
      " [4. 6. 6.]\n",
      " [3. 1. 9.]]\n",
      "[[5.]\n",
      " [1.]\n",
      " [6.]]\n"
     ]
    }
   ],
   "source": [
    "print(A)\n",
    "print(b)"
   ]
  },
  {
   "cell_type": "code",
   "execution_count": 34,
   "metadata": {},
   "outputs": [],
   "source": [
    "def gaussian_elimination(eq, start_row, start_col):\n",
    "    if start_row == eq.coeff.shape[0] or start_col == eq.coeff.shape[1]:\n",
    "        return\n",
    "    if eq.coeff[start_row, start_col] != 0:\n",
    "        eq.scale(start_row, 1/eq.coeff[start_row, start_col])\n",
    "        for row in range(eq.coeff.shape[0]):\n",
    "            if row == start_row:\n",
    "                continue\n",
    "            eq.add(row, start_row, -1*eq.coeff[row, start_col])\n",
    "        gaussian_elimination(eq, start_row+1, start_col+1)\n",
    "    else:\n",
    "        candidate_rows = np.argwhere(eq.coeff[start_row:, start_col] != 0)\n",
    "        if len(candidate_rows) != 0:\n",
    "            eq.swap(start_col, candidate_rows[0]+start_row)\n",
    "            gaussian_elimination(eq, start_row, start_col)\n",
    "        else:\n",
    "            gaussian_elimination(eq, start_row, start_col+1)"
   ]
  },
  {
   "cell_type": "code",
   "execution_count": 42,
   "metadata": {},
   "outputs": [],
   "source": [
    "eq = EqSystem(np.random.randint(1,10,(4,4))*1.0, np.random.randint(1,10,(4,1))*1.0)\n",
    "gaussian_elimination(eq, 0, 0)"
   ]
  },
  {
   "cell_type": "code",
   "execution_count": 43,
   "metadata": {},
   "outputs": [
    {
     "name": "stdout",
     "output_type": "stream",
     "text": [
      "[[ 1.  0.  0.  0.]\n",
      " [-0.  1.  0.  0.]\n",
      " [ 0.  0.  1.  0.]\n",
      " [ 0.  0.  0.  1.]]\n",
      "[[-0.72122762]\n",
      " [ 3.        ]\n",
      " [ 1.19693095]\n",
      " [-1.30434783]]\n"
     ]
    }
   ],
   "source": [
    "eq.stat()"
   ]
  },
  {
   "cell_type": "code",
   "execution_count": 49,
   "metadata": {},
   "outputs": [],
   "source": [
    "def determinant(matrix):\n",
    "    if matrix.shape[0] != matrix.shape[1]:\n",
    "        return \"Not Defined\"\n",
    "    if matrix.shape[0]==1:\n",
    "        return matrix[0,0]\n",
    "    \n",
    "    det = 1\n",
    "    \n",
    "    if matrix[0,0] != 0:\n",
    "        #matrix.scale(start_row, 1/matrix[0,0])\n",
    "        det *= matrix[0,0]\n",
    "        for row in range(1, matrix.shape[0]):\n",
    "            #eq.add(row, start_row, -1*eq.coeff[row, start_col])\n",
    "            det /= -matrix[row, 0]\n",
    "        return det * determinant(matrix[1:, 1:])\n",
    "    else:\n",
    "        candidate_rows = np.argwhere(eq.coeff[start_row:, start_col] != 0)\n",
    "        if len(candidate_rows) != 0:\n",
    "            #eq.swap(start_col, candidate_rows[0]+start_row)\n",
    "            det *= -1\n",
    "            return det *  determinant(matrix[:,:])\n",
    "        else:\n",
    "            return det *  determinant(matrix[:,1:])\n",
    "            #gaussian_elimination(eq, start_row, start_col+1)"
   ]
  },
  {
   "cell_type": "code",
   "execution_count": 50,
   "metadata": {},
   "outputs": [
    {
     "data": {
      "text/plain": [
       "-18.0"
      ]
     },
     "execution_count": 50,
     "metadata": {},
     "output_type": "execute_result"
    }
   ],
   "source": [
    "determinant(A)"
   ]
  },
  {
   "cell_type": "code",
   "execution_count": 51,
   "metadata": {},
   "outputs": [
    {
     "data": {
      "text/plain": [
       "-32.0"
      ]
     },
     "execution_count": 51,
     "metadata": {},
     "output_type": "execute_result"
    }
   ],
   "source": [
    "np.linalg.det(A)"
   ]
  },
  {
   "cell_type": "code",
   "execution_count": 52,
   "metadata": {},
   "outputs": [
    {
     "data": {
      "text/plain": [
       "array([[4., 7., 7.],\n",
       "       [4., 6., 6.],\n",
       "       [3., 1., 9.]])"
      ]
     },
     "execution_count": 52,
     "metadata": {},
     "output_type": "execute_result"
    }
   ],
   "source": [
    "A"
   ]
  },
  {
   "cell_type": "code",
   "execution_count": null,
   "metadata": {},
   "outputs": [],
   "source": []
  },
  {
   "cell_type": "code",
   "execution_count": null,
   "metadata": {},
   "outputs": [],
   "source": []
  },
  {
   "cell_type": "code",
   "execution_count": null,
   "metadata": {},
   "outputs": [],
   "source": []
  },
  {
   "cell_type": "code",
   "execution_count": null,
   "metadata": {},
   "outputs": [],
   "source": []
  }
 ],
 "metadata": {
  "kernelspec": {
   "display_name": "Python 3",
   "language": "python",
   "name": "python3"
  },
  "language_info": {
   "codemirror_mode": {
    "name": "ipython",
    "version": 3
   },
   "file_extension": ".py",
   "mimetype": "text/x-python",
   "name": "python",
   "nbconvert_exporter": "python",
   "pygments_lexer": "ipython3",
   "version": "3.8.5"
  }
 },
 "nbformat": 4,
 "nbformat_minor": 2
}
