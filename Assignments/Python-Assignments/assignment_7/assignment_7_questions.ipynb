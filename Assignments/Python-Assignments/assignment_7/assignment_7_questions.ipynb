{
 "cells": [
  {
   "cell_type": "markdown",
   "metadata": {},
   "source": [
    "# Datafile Parsing"
   ]
  },
  {
   "cell_type": "markdown",
   "metadata": {},
   "source": [
    "* Submit a single file ``dataparsing.py``.\n",
    "* The file ``cardata.csv`` contains some information about persons and their cars. "
   ]
  },
  {
   "cell_type": "markdown",
   "metadata": {},
   "source": [
    "1. Write a function ``parse_cardata()`` that reads the file and parses the data into an appropriate datastructure say ``cardata`` and returns it. The choice of the datastructure is yours. \n",
    "2. Write a function ``cars_vs_age(cardata,bucketsize)`` that returns a histogram (as a dictionary), such that for each car we can know how many owners are there in an age range (defined by bucketsize).\n",
    "    * For example, if ``bucketsize=5``,then ``histogram[\"Creta\"][\"35-40\"] should return how many people own a creta in the age range 35-40.\n",
    "3. Write a function ``age_vs_cars(histogram)`` that inverts the histogram created by ``cars_vs_age(cardata,bucketsize)`` such that ``new_histogram[\"35-40\"][\"Creta\"]`` gives me how many people own a creta in the age range 35-40.\n",
    "4. Write a function ``company_vs_cars(cardata)`` that returns a map such that, ``company_vs_cars_map[\"Google\"]`` gives the list of cars owned by people in Google ordered ordered by descending frequency.\n",
    "5. Using these functions, answer the following questions and print the answer\n",
    "    1. Which is the most popular car for each age group (bucketsize=5)?\n",
    "    2. Which age group is each car most popular with?\n",
    "    3. Which cars are most popular in each company?\n",
    "    4. Which car is the best car? (A car gets 1 point if it is in the top 2 of a company. The car with the maximum points is considered the best car.)\n",
    "\n",
    "Hint for Q.4 : \n",
    "Sorting the cars for each company can be accomplished in at least 2 ways\n",
    "* Using tuples and the sorted() function - this has not been covered in class.\n",
    "* Using np.argsort."
   ]
  },
  {
   "cell_type": "code",
   "execution_count": null,
   "metadata": {},
   "outputs": [],
   "source": []
  }
 ],
 "metadata": {
  "hide_input": false,
  "kernelspec": {
   "display_name": "Python 3",
   "language": "python",
   "name": "python3"
  },
  "language_info": {
   "codemirror_mode": {
    "name": "ipython",
    "version": 3
   },
   "file_extension": ".py",
   "mimetype": "text/x-python",
   "name": "python",
   "nbconvert_exporter": "python",
   "pygments_lexer": "ipython3",
   "version": "3.8.3"
  },
  "toc": {
   "base_numbering": 1,
   "nav_menu": {},
   "number_sections": true,
   "sideBar": true,
   "skip_h1_title": false,
   "title_cell": "Table of Contents",
   "title_sidebar": "Contents",
   "toc_cell": false,
   "toc_position": {},
   "toc_section_display": true,
   "toc_window_display": false
  }
 },
 "nbformat": 4,
 "nbformat_minor": 2
}
