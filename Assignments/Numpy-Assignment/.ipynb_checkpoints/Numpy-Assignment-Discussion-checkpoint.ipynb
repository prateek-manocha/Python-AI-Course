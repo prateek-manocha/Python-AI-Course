{
 "cells": [
  {
   "cell_type": "code",
   "execution_count": 10,
   "metadata": {},
   "outputs": [
    {
     "data": {
      "text/plain": [
       "0.9990234375"
      ]
     },
     "execution_count": 10,
     "metadata": {},
     "output_type": "execute_result"
    }
   ],
   "source": [
    "# Q4.\n",
    "\n",
    "import numpy as np\n",
    "\n",
    "def factorial(n):\n",
    "    prod = 1\n",
    "    for i in range(2,n+1):\n",
    "        prod *= i\n",
    "    return prod\n",
    "\n",
    "def prob_heads(n, k):\n",
    "    if k>n:\n",
    "        return 0\n",
    "    \n",
    "    fact = []\n",
    "    for i in range(n+1):\n",
    "        fact.append(factorial(i))\n",
    "    \n",
    "    prob = 0\n",
    "    for i in range(k, n+1):\n",
    "        prob += fact[n]/(fact[n-i]*fact[i])\n",
    "    prob *= (0.5)**n\n",
    "    return prob\n",
    "\n",
    "prob_heads(10,1)\n"
   ]
  },
  {
   "cell_type": "code",
   "execution_count": 19,
   "metadata": {},
   "outputs": [
    {
     "name": "stdout",
     "output_type": "stream",
     "text": [
      "Total possible binary: 1024\n"
     ]
    },
    {
     "data": {
      "text/plain": [
       "144.0"
      ]
     },
     "execution_count": 19,
     "metadata": {},
     "output_type": "execute_result"
    }
   ],
   "source": [
    "# Q5\n",
    "\n",
    "def total_binary(n):\n",
    "    print(\"Total possible binary:\", 2**n)\n",
    "    \n",
    "    ones = np.zeros(n+1)\n",
    "    zeros = np.zeros(n+1)\n",
    "    \n",
    "    ones[1] = 1\n",
    "    zeros[1] = 1\n",
    "    \n",
    "    for k in range(2, n+1):\n",
    "        ones[k] = zeros[k-1]\n",
    "        zeros[k] = zeros[k-1] + ones[k-1]\n",
    "    \n",
    "    return zeros[n]+ones[n]\n",
    "    \n",
    "\n",
    "total_binary(10)"
   ]
  },
  {
   "cell_type": "code",
   "execution_count": 32,
   "metadata": {},
   "outputs": [
    {
     "data": {
      "text/plain": [
       "11440"
      ]
     },
     "execution_count": 32,
     "metadata": {},
     "output_type": "execute_result"
    }
   ],
   "source": [
    "# Q1: Recurssion\n",
    "\n",
    "def tot_ways(r, c):\n",
    "    if r==1 or c==1:\n",
    "        return 1\n",
    "    return tot_ways(r,c-1)+tot_ways(r-1,c)\n",
    "\n",
    "tot_ways(8,10)"
   ]
  },
  {
   "cell_type": "code",
   "execution_count": 34,
   "metadata": {},
   "outputs": [
    {
     "data": {
      "text/plain": [
       "11440.0"
      ]
     },
     "execution_count": 34,
     "metadata": {},
     "output_type": "execute_result"
    }
   ],
   "source": [
    "# Q1: DP\n",
    "\n",
    "def tot_ways_eff(r,c):\n",
    "    ways = np.zeros((r,c))\n",
    "    ways[-1] = 1\n",
    "    ways[:,0] = 1\n",
    "    \n",
    "    for rn in range(-2, -r-1, -1):\n",
    "        for cn in range(1, c, 1):\n",
    "            ways[rn, cn] = ways[rn+1, cn] + ways[rn, cn-1]\n",
    "    #print(ways)\n",
    "    return ways[0,-1]\n",
    "\n",
    "tot_ways_eff(8,10)"
   ]
  },
  {
   "cell_type": "code",
   "execution_count": 42,
   "metadata": {},
   "outputs": [
    {
     "name": "stdout",
     "output_type": "stream",
     "text": [
      "[[ 0 -1  0  0]\n",
      " [-1  0  0  0]\n",
      " [ 0 -1  0  0]\n",
      " [ 0  0  0  0]]\n"
     ]
    }
   ],
   "source": [
    "sample_path = np.array([[0,-1,0,0],\n",
    "                       [-1,0,0,0],\n",
    "                       [0,-1,0,0],\n",
    "                       [0,0,0,0]])\n",
    "print(sample_path)"
   ]
  },
  {
   "cell_type": "code",
   "execution_count": 43,
   "metadata": {},
   "outputs": [
    {
     "data": {
      "text/plain": [
       "4"
      ]
     },
     "execution_count": 43,
     "metadata": {},
     "output_type": "execute_result"
    }
   ],
   "source": [
    "# Q2: Recurssion\n",
    "\n",
    "def ways_obs(path, r, c):\n",
    "    if path[-1, 0] == -1:\n",
    "        return 0\n",
    "    if r==1 or c==1:\n",
    "        if np.sum(path)==0:\n",
    "            return 1\n",
    "        else:\n",
    "            return 0\n",
    "    return ways_obs(path[:-1,:] ,r-1, c) + ways_obs(path[:,1:], r, c-1)\n",
    "\n",
    "ways_obs(sample_path, 4,4)"
   ]
  },
  {
   "cell_type": "code",
   "execution_count": 46,
   "metadata": {},
   "outputs": [],
   "source": [
    "# Q6\n",
    "\n",
    "#N = amount\n",
    "#S = coin values\n",
    "#m = number of distinct coins\n",
    "\n",
    "def create_change(n,s,m):\n",
    "    if n==0:\n",
    "        return 1\n",
    "    if m<=0 and n>0:\n",
    "        return 0\n",
    "    if n<0:\n",
    "        return 0\n",
    "    return create_change(n,s[:-1],m-1) + create_change(n-s[-1],s, m)"
   ]
  },
  {
   "cell_type": "code",
   "execution_count": 48,
   "metadata": {},
   "outputs": [
    {
     "data": {
      "text/plain": [
       "5"
      ]
     },
     "execution_count": 48,
     "metadata": {},
     "output_type": "execute_result"
    }
   ],
   "source": [
    "create_change(10,[2,5,3,6], 4)"
   ]
  },
  {
   "cell_type": "code",
   "execution_count": null,
   "metadata": {},
   "outputs": [],
   "source": []
  },
  {
   "cell_type": "code",
   "execution_count": null,
   "metadata": {},
   "outputs": [],
   "source": []
  },
  {
   "cell_type": "code",
   "execution_count": null,
   "metadata": {},
   "outputs": [],
   "source": []
  },
  {
   "cell_type": "code",
   "execution_count": null,
   "metadata": {},
   "outputs": [],
   "source": []
  },
  {
   "cell_type": "code",
   "execution_count": null,
   "metadata": {},
   "outputs": [],
   "source": []
  }
 ],
 "metadata": {
  "kernelspec": {
   "display_name": "Python 3",
   "language": "python",
   "name": "python3"
  },
  "language_info": {
   "codemirror_mode": {
    "name": "ipython",
    "version": 3
   },
   "file_extension": ".py",
   "mimetype": "text/x-python",
   "name": "python",
   "nbconvert_exporter": "python",
   "pygments_lexer": "ipython3",
   "version": "3.8.5"
  }
 },
 "nbformat": 4,
 "nbformat_minor": 4
}
